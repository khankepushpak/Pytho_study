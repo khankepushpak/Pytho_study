{
 "cells": [
  {
   "cell_type": "markdown",
   "id": "588617c0",
   "metadata": {},
   "source": [
    "# If Statement"
   ]
  },
  {
   "cell_type": "code",
   "execution_count": 4,
   "id": "22a1cd1b",
   "metadata": {},
   "outputs": [],
   "source": [
    "x = 70"
   ]
  },
  {
   "cell_type": "code",
   "execution_count": 5,
   "id": "28338ac6",
   "metadata": {},
   "outputs": [
    {
     "name": "stdout",
     "output_type": "stream",
     "text": [
      "Greater\n",
      "Hi\n",
      "__________________\n"
     ]
    }
   ],
   "source": [
    "if x > 20:\n",
    "    print('Greater')\n",
    "    print('Hi')\n",
    "else:\n",
    "    print('Lesser')\n",
    "    print('Hello')\n",
    "print('__________________')"
   ]
  },
  {
   "cell_type": "markdown",
   "id": "ae9f9780",
   "metadata": {},
   "source": [
    "## Find if x is positive or negative"
   ]
  },
  {
   "cell_type": "code",
   "execution_count": 13,
   "id": "027331b7",
   "metadata": {},
   "outputs": [],
   "source": [
    "x = 0"
   ]
  },
  {
   "cell_type": "code",
   "execution_count": 9,
   "id": "c8dbc758",
   "metadata": {},
   "outputs": [
    {
     "name": "stdout",
     "output_type": "stream",
     "text": [
      "-ve\n"
     ]
    }
   ],
   "source": [
    "if x > 0:\n",
    "    print('+ve')\n",
    "else:\n",
    "    print('-ve')"
   ]
  },
  {
   "cell_type": "code",
   "execution_count": 14,
   "id": "7699eba6",
   "metadata": {},
   "outputs": [
    {
     "name": "stdout",
     "output_type": "stream",
     "text": [
      "0\n"
     ]
    }
   ],
   "source": [
    "if x > 0:\n",
    "    print('+ve')\n",
    "elif x < 0:\n",
    "    print('-ve')\n",
    "else:\n",
    "    print('0')"
   ]
  },
  {
   "cell_type": "code",
   "execution_count": 20,
   "id": "ea717947",
   "metadata": {},
   "outputs": [],
   "source": [
    "x = 16"
   ]
  },
  {
   "cell_type": "code",
   "execution_count": 21,
   "id": "092dcfd0",
   "metadata": {},
   "outputs": [
    {
     "name": "stdout",
     "output_type": "stream",
     "text": [
      "Number out of range\n",
      "Outside if\n"
     ]
    }
   ],
   "source": [
    "if x == 1 :\n",
    "    print('Monday')\n",
    "elif x == 2:\n",
    "    print('Tuesday')\n",
    "elif x == 3:\n",
    "    print('Wednesday')\n",
    "elif x == 4:\n",
    "    print('Thursday')\n",
    "elif x == 5:\n",
    "    print('Friday')\n",
    "elif x == 6 or x == 7:\n",
    "    print('Weekend')\n",
    "else:\n",
    "    print('Number out of range' )\n",
    "\n",
    "print('Outside if')"
   ]
  },
  {
   "cell_type": "code",
   "execution_count": null,
   "id": "6aeb83cf",
   "metadata": {},
   "outputs": [],
   "source": []
  }
 ],
 "metadata": {
  "kernelspec": {
   "display_name": "Python 3",
   "language": "python",
   "name": "python3"
  },
  "language_info": {
   "codemirror_mode": {
    "name": "ipython",
    "version": 3
   },
   "file_extension": ".py",
   "mimetype": "text/x-python",
   "name": "python",
   "nbconvert_exporter": "python",
   "pygments_lexer": "ipython3",
   "version": "3.8.8"
  }
 },
 "nbformat": 4,
 "nbformat_minor": 5
}
