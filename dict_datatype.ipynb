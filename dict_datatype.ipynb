{
 "cells": [
  {
   "cell_type": "code",
   "execution_count": 1,
   "id": "ae131f4c",
   "metadata": {},
   "outputs": [],
   "source": [
    "e1 = {}"
   ]
  },
  {
   "cell_type": "code",
   "execution_count": 2,
   "id": "2c28392e",
   "metadata": {},
   "outputs": [
    {
     "data": {
      "text/plain": [
       "dict"
      ]
     },
     "execution_count": 2,
     "metadata": {},
     "output_type": "execute_result"
    }
   ],
   "source": [
    "type(e1)"
   ]
  },
  {
   "cell_type": "code",
   "execution_count": 9,
   "id": "6dab7ac0",
   "metadata": {},
   "outputs": [],
   "source": [
    "e1 = {'Name':'Hugh',\n",
    "     'Age':45,\n",
    "     'Job':'Actor',\n",
    "     'Movies': ['Movie1','Movie2'] ,\n",
    "      2:'Two',\n",
    "      (0,0):'Origin',\n",
    "      (23,78):'London',\n",
    "     }"
   ]
  },
  {
   "cell_type": "code",
   "execution_count": 10,
   "id": "8ed91933",
   "metadata": {},
   "outputs": [
    {
     "data": {
      "text/plain": [
       "{'Name': 'Hugh',\n",
       " 'Age': 45,\n",
       " 'Job': 'Actor',\n",
       " 'Movies': ['Movie1', 'Movie2'],\n",
       " 2: 'Two',\n",
       " (0, 0): 'Origin',\n",
       " (23, 78): 'London'}"
      ]
     },
     "execution_count": 10,
     "metadata": {},
     "output_type": "execute_result"
    }
   ],
   "source": [
    "e1"
   ]
  },
  {
   "cell_type": "code",
   "execution_count": 11,
   "id": "adc0f400",
   "metadata": {},
   "outputs": [
    {
     "data": {
      "text/plain": [
       "['Movie1', 'Movie2']"
      ]
     },
     "execution_count": 11,
     "metadata": {},
     "output_type": "execute_result"
    }
   ],
   "source": [
    "e1['Movies']"
   ]
  },
  {
   "cell_type": "code",
   "execution_count": 12,
   "id": "103a556c",
   "metadata": {},
   "outputs": [
    {
     "data": {
      "text/plain": [
       "45"
      ]
     },
     "execution_count": 12,
     "metadata": {},
     "output_type": "execute_result"
    }
   ],
   "source": [
    "e1['Age']"
   ]
  },
  {
   "cell_type": "code",
   "execution_count": 13,
   "id": "6bce4513",
   "metadata": {},
   "outputs": [],
   "source": [
    "keys = ['Tom','Tim','Jim','Jon','Pat']\n",
    "values = (56,89,54,78,66)"
   ]
  },
  {
   "cell_type": "code",
   "execution_count": 15,
   "id": "f7667ea0",
   "metadata": {},
   "outputs": [
    {
     "data": {
      "text/plain": [
       "{'Tom': 56, 'Tim': 89, 'Jim': 54, 'Jon': 78, 'Pat': 66}"
      ]
     },
     "execution_count": 15,
     "metadata": {},
     "output_type": "execute_result"
    }
   ],
   "source": [
    "marks = dict( zip(keys,values) )\n",
    "marks"
   ]
  },
  {
   "cell_type": "code",
   "execution_count": 16,
   "id": "2702492c",
   "metadata": {},
   "outputs": [
    {
     "data": {
      "text/plain": [
       "89"
      ]
     },
     "execution_count": 16,
     "metadata": {},
     "output_type": "execute_result"
    }
   ],
   "source": [
    "marks['Tim']"
   ]
  },
  {
   "cell_type": "code",
   "execution_count": 17,
   "id": "b1ec2ed8",
   "metadata": {},
   "outputs": [],
   "source": [
    "states = ['Kerala','TN','Telangana','Karnataka']\n",
    "capitals = ['Trivandrum','Chennai','Hyderabad','Bangalore']"
   ]
  },
  {
   "cell_type": "code",
   "execution_count": 18,
   "id": "a8788e99",
   "metadata": {},
   "outputs": [],
   "source": [
    "dstates = dict(zip(states,capitals))"
   ]
  },
  {
   "cell_type": "code",
   "execution_count": 19,
   "id": "97b3362c",
   "metadata": {},
   "outputs": [
    {
     "data": {
      "text/plain": [
       "{'Kerala': 'Trivandrum',\n",
       " 'TN': 'Chennai',\n",
       " 'Telangana': 'Hyderabad',\n",
       " 'Karnataka': 'Bangalore'}"
      ]
     },
     "execution_count": 19,
     "metadata": {},
     "output_type": "execute_result"
    }
   ],
   "source": [
    "dstates"
   ]
  },
  {
   "cell_type": "code",
   "execution_count": 20,
   "id": "789fb300",
   "metadata": {},
   "outputs": [
    {
     "data": {
      "text/plain": [
       "'Chennai'"
      ]
     },
     "execution_count": 20,
     "metadata": {},
     "output_type": "execute_result"
    }
   ],
   "source": [
    "dstates['TN']"
   ]
  },
  {
   "cell_type": "code",
   "execution_count": 21,
   "id": "e2bdd807",
   "metadata": {},
   "outputs": [
    {
     "ename": "KeyError",
     "evalue": "'AP'",
     "output_type": "error",
     "traceback": [
      "\u001b[0;31m---------------------------------------------------------------------------\u001b[0m",
      "\u001b[0;31mKeyError\u001b[0m                                  Traceback (most recent call last)",
      "\u001b[0;32m<ipython-input-21-889556bb50d9>\u001b[0m in \u001b[0;36m<module>\u001b[0;34m\u001b[0m\n\u001b[0;32m----> 1\u001b[0;31m \u001b[0mdstates\u001b[0m\u001b[0;34m[\u001b[0m\u001b[0;34m'AP'\u001b[0m\u001b[0;34m]\u001b[0m\u001b[0;34m\u001b[0m\u001b[0;34m\u001b[0m\u001b[0m\n\u001b[0m",
      "\u001b[0;31mKeyError\u001b[0m: 'AP'"
     ]
    }
   ],
   "source": [
    "dstates['AP']"
   ]
  },
  {
   "cell_type": "code",
   "execution_count": 22,
   "id": "ad3b886a",
   "metadata": {},
   "outputs": [
    {
     "data": {
      "text/plain": [
       "'Chennai'"
      ]
     },
     "execution_count": 22,
     "metadata": {},
     "output_type": "execute_result"
    }
   ],
   "source": [
    "dstates.get('TN')"
   ]
  },
  {
   "cell_type": "code",
   "execution_count": 24,
   "id": "c166a2a8",
   "metadata": {},
   "outputs": [
    {
     "name": "stdout",
     "output_type": "stream",
     "text": [
      "AP not in dict\n"
     ]
    }
   ],
   "source": [
    "if dstates.get('AP') == None:\n",
    "    print('AP not in dict')"
   ]
  },
  {
   "cell_type": "code",
   "execution_count": 25,
   "id": "2576abed",
   "metadata": {},
   "outputs": [
    {
     "data": {
      "text/plain": [
       "('Not Found', 'Chennai')"
      ]
     },
     "execution_count": 25,
     "metadata": {},
     "output_type": "execute_result"
    }
   ],
   "source": [
    "dstates.get('AP','Not Found'), dstates.get('TN','Not Found')"
   ]
  },
  {
   "cell_type": "code",
   "execution_count": 26,
   "id": "3a5e57e2",
   "metadata": {},
   "outputs": [],
   "source": [
    "dstates['Maharashtra'] = 'Mumbai'"
   ]
  },
  {
   "cell_type": "code",
   "execution_count": 27,
   "id": "c828dd14",
   "metadata": {},
   "outputs": [
    {
     "data": {
      "text/plain": [
       "{'Kerala': 'Trivandrum',\n",
       " 'TN': 'Chennai',\n",
       " 'Telangana': 'Hyderabad',\n",
       " 'Karnataka': 'Bangalore',\n",
       " 'Maharashtra': 'Mumbai'}"
      ]
     },
     "execution_count": 27,
     "metadata": {},
     "output_type": "execute_result"
    }
   ],
   "source": [
    "dstates"
   ]
  },
  {
   "cell_type": "code",
   "execution_count": 29,
   "id": "07e7000d",
   "metadata": {},
   "outputs": [
    {
     "data": {
      "text/plain": [
       "('Maharashtra', 'Mumbai')"
      ]
     },
     "execution_count": 29,
     "metadata": {},
     "output_type": "execute_result"
    }
   ],
   "source": [
    "dstates.popitem()"
   ]
  },
  {
   "cell_type": "code",
   "execution_count": 30,
   "id": "2cfab397",
   "metadata": {},
   "outputs": [
    {
     "data": {
      "text/plain": [
       "('Karnataka', 'Bangalore')"
      ]
     },
     "execution_count": 30,
     "metadata": {},
     "output_type": "execute_result"
    }
   ],
   "source": [
    "dstates.popitem()"
   ]
  },
  {
   "cell_type": "code",
   "execution_count": 31,
   "id": "399553e0",
   "metadata": {},
   "outputs": [
    {
     "data": {
      "text/plain": [
       "'Chennai'"
      ]
     },
     "execution_count": 31,
     "metadata": {},
     "output_type": "execute_result"
    }
   ],
   "source": [
    "dstates.pop('TN')"
   ]
  },
  {
   "cell_type": "code",
   "execution_count": 32,
   "id": "ed73d9dc",
   "metadata": {},
   "outputs": [
    {
     "data": {
      "text/plain": [
       "{'Kerala': 'Trivandrum', 'Telangana': 'Hyderabad'}"
      ]
     },
     "execution_count": 32,
     "metadata": {},
     "output_type": "execute_result"
    }
   ],
   "source": [
    "dstates"
   ]
  },
  {
   "cell_type": "code",
   "execution_count": 33,
   "id": "a3f79eb0",
   "metadata": {},
   "outputs": [],
   "source": [
    "dstates.clear()"
   ]
  },
  {
   "cell_type": "code",
   "execution_count": 34,
   "id": "34481a0d",
   "metadata": {},
   "outputs": [
    {
     "data": {
      "text/plain": [
       "{}"
      ]
     },
     "execution_count": 34,
     "metadata": {},
     "output_type": "execute_result"
    }
   ],
   "source": [
    "dstates"
   ]
  },
  {
   "cell_type": "code",
   "execution_count": 68,
   "id": "02e7301e",
   "metadata": {},
   "outputs": [],
   "source": [
    "keys = 'james'\n",
    "values = ('One','Two','Three','Four','Five')"
   ]
  },
  {
   "cell_type": "code",
   "execution_count": 69,
   "id": "dd6117a1",
   "metadata": {},
   "outputs": [
    {
     "data": {
      "text/plain": [
       "{'j': 'One', 'a': 'Two', 'm': 'Three', 'e': 'Four', 's': 'Five'}"
      ]
     },
     "execution_count": 69,
     "metadata": {},
     "output_type": "execute_result"
    }
   ],
   "source": [
    "d1 = dict(zip(keys,values))\n",
    "d1"
   ]
  },
  {
   "cell_type": "code",
   "execution_count": 70,
   "id": "d6366356",
   "metadata": {},
   "outputs": [],
   "source": [
    "d1['a'] = 'Do'"
   ]
  },
  {
   "cell_type": "code",
   "execution_count": 71,
   "id": "737405bd",
   "metadata": {},
   "outputs": [
    {
     "data": {
      "text/plain": [
       "{'j': 'One', 'a': 'Do', 'm': 'Three', 'e': 'Four', 's': 'Five'}"
      ]
     },
     "execution_count": 71,
     "metadata": {},
     "output_type": "execute_result"
    }
   ],
   "source": [
    "d1"
   ]
  },
  {
   "cell_type": "code",
   "execution_count": 72,
   "id": "7d3d5852",
   "metadata": {},
   "outputs": [],
   "source": [
    "keys = [5,3,2,1,4]\n",
    "values = ('Four','Two','One','Four','Five')"
   ]
  },
  {
   "cell_type": "code",
   "execution_count": 60,
   "id": "3533c926",
   "metadata": {},
   "outputs": [
    {
     "data": {
      "text/plain": [
       "{5: 'Four', 3: 'Two', 2: 'One', 1: 'Four', 4: 'Five'}"
      ]
     },
     "execution_count": 60,
     "metadata": {},
     "output_type": "execute_result"
    }
   ],
   "source": [
    "dict(zip(keys,values))"
   ]
  },
  {
   "cell_type": "markdown",
   "id": "7a427b8d",
   "metadata": {},
   "source": [
    "### Common Methods"
   ]
  },
  {
   "cell_type": "markdown",
   "id": "ad419a9b",
   "metadata": {},
   "source": [
    "#### a. len"
   ]
  },
  {
   "cell_type": "code",
   "execution_count": 48,
   "id": "45385452",
   "metadata": {},
   "outputs": [
    {
     "data": {
      "text/plain": [
       "{1: 'One', 2: 'Do', 3: 'Three', 4: 'Four', 5: 'Five'}"
      ]
     },
     "execution_count": 48,
     "metadata": {},
     "output_type": "execute_result"
    }
   ],
   "source": [
    "## Dictionary\n",
    "d1"
   ]
  },
  {
   "cell_type": "code",
   "execution_count": 40,
   "id": "c45583f3",
   "metadata": {},
   "outputs": [
    {
     "data": {
      "text/plain": [
       "5"
      ]
     },
     "execution_count": 40,
     "metadata": {},
     "output_type": "execute_result"
    }
   ],
   "source": [
    "len(d1)"
   ]
  },
  {
   "cell_type": "code",
   "execution_count": 41,
   "id": "760141dd",
   "metadata": {},
   "outputs": [
    {
     "data": {
      "text/plain": [
       "['Kerala', 'TN', 'Telangana', 'Karnataka']"
      ]
     },
     "execution_count": 41,
     "metadata": {},
     "output_type": "execute_result"
    }
   ],
   "source": [
    "## List\n",
    "states"
   ]
  },
  {
   "cell_type": "code",
   "execution_count": 42,
   "id": "73780eb2",
   "metadata": {},
   "outputs": [
    {
     "data": {
      "text/plain": [
       "4"
      ]
     },
     "execution_count": 42,
     "metadata": {},
     "output_type": "execute_result"
    }
   ],
   "source": [
    "len(states)"
   ]
  },
  {
   "cell_type": "code",
   "execution_count": 49,
   "id": "24af14f3",
   "metadata": {},
   "outputs": [
    {
     "data": {
      "text/plain": [
       "('One', 'Two', 'Three', 'Four', 'Five')"
      ]
     },
     "execution_count": 49,
     "metadata": {},
     "output_type": "execute_result"
    }
   ],
   "source": [
    "## Tuple\n",
    "values"
   ]
  },
  {
   "cell_type": "code",
   "execution_count": 43,
   "id": "9e0647d3",
   "metadata": {},
   "outputs": [
    {
     "data": {
      "text/plain": [
       "5"
      ]
     },
     "execution_count": 43,
     "metadata": {},
     "output_type": "execute_result"
    }
   ],
   "source": [
    "len(values)"
   ]
  },
  {
   "cell_type": "markdown",
   "id": "82c3340f",
   "metadata": {},
   "source": [
    "#### b. Membership Operator"
   ]
  },
  {
   "cell_type": "code",
   "execution_count": 45,
   "id": "6168f3a6",
   "metadata": {},
   "outputs": [
    {
     "data": {
      "text/plain": [
       "(True, False)"
      ]
     },
     "execution_count": 45,
     "metadata": {},
     "output_type": "execute_result"
    }
   ],
   "source": [
    "4 in d1 , 40 in d1"
   ]
  },
  {
   "cell_type": "code",
   "execution_count": 47,
   "id": "4a2f7f34",
   "metadata": {},
   "outputs": [
    {
     "data": {
      "text/plain": [
       "(False, True)"
      ]
     },
     "execution_count": 47,
     "metadata": {},
     "output_type": "execute_result"
    }
   ],
   "source": [
    "4 not in d1 , 40 not in d1"
   ]
  },
  {
   "cell_type": "code",
   "execution_count": 52,
   "id": "5302d507",
   "metadata": {},
   "outputs": [
    {
     "data": {
      "text/plain": [
       "(True, False)"
      ]
     },
     "execution_count": 52,
     "metadata": {},
     "output_type": "execute_result"
    }
   ],
   "source": [
    "'TN' in states , 'TN' not in states"
   ]
  },
  {
   "cell_type": "code",
   "execution_count": 53,
   "id": "2bcba83a",
   "metadata": {},
   "outputs": [
    {
     "data": {
      "text/plain": [
       "(True, False)"
      ]
     },
     "execution_count": 53,
     "metadata": {},
     "output_type": "execute_result"
    }
   ],
   "source": [
    "'One' in values,  'Ten' in values"
   ]
  },
  {
   "cell_type": "code",
   "execution_count": 73,
   "id": "c9d5dbaf",
   "metadata": {},
   "outputs": [],
   "source": [
    "## Copy"
   ]
  },
  {
   "cell_type": "code",
   "execution_count": 74,
   "id": "63f1f2f0",
   "metadata": {},
   "outputs": [
    {
     "data": {
      "text/plain": [
       "{1: 'One', 2: 'Two'}"
      ]
     },
     "execution_count": 74,
     "metadata": {},
     "output_type": "execute_result"
    }
   ],
   "source": [
    "d1 = {1:'One', 2:'Two'}\n",
    "d1"
   ]
  },
  {
   "cell_type": "code",
   "execution_count": 75,
   "id": "a71ea595",
   "metadata": {},
   "outputs": [
    {
     "data": {
      "text/plain": [
       "{1: 'One', 2: 'Two'}"
      ]
     },
     "execution_count": 75,
     "metadata": {},
     "output_type": "execute_result"
    }
   ],
   "source": [
    "d2 = d1\n",
    "d2"
   ]
  },
  {
   "cell_type": "code",
   "execution_count": 76,
   "id": "d2cb60a3",
   "metadata": {},
   "outputs": [],
   "source": [
    "d1[1] = 'Ek'"
   ]
  },
  {
   "cell_type": "code",
   "execution_count": 77,
   "id": "fea17654",
   "metadata": {},
   "outputs": [
    {
     "data": {
      "text/plain": [
       "{1: 'Ek', 2: 'Two'}"
      ]
     },
     "execution_count": 77,
     "metadata": {},
     "output_type": "execute_result"
    }
   ],
   "source": [
    "d1"
   ]
  },
  {
   "cell_type": "code",
   "execution_count": 78,
   "id": "2e259286",
   "metadata": {},
   "outputs": [
    {
     "data": {
      "text/plain": [
       "{1: 'Ek', 2: 'Two'}"
      ]
     },
     "execution_count": 78,
     "metadata": {},
     "output_type": "execute_result"
    }
   ],
   "source": [
    "d2"
   ]
  },
  {
   "cell_type": "code",
   "execution_count": 84,
   "id": "c06bd83b",
   "metadata": {},
   "outputs": [
    {
     "data": {
      "text/plain": [
       "{1: 'One', 2: 'Two'}"
      ]
     },
     "execution_count": 84,
     "metadata": {},
     "output_type": "execute_result"
    }
   ],
   "source": [
    "d1 = {1:'One', 2:'Two'}\n",
    "d1"
   ]
  },
  {
   "cell_type": "code",
   "execution_count": 85,
   "id": "9d4590f0",
   "metadata": {},
   "outputs": [],
   "source": [
    "d3 = d1.copy()"
   ]
  },
  {
   "cell_type": "code",
   "execution_count": 86,
   "id": "921200d4",
   "metadata": {},
   "outputs": [
    {
     "data": {
      "text/plain": [
       "{1: 'One', 2: 'Two'}"
      ]
     },
     "execution_count": 86,
     "metadata": {},
     "output_type": "execute_result"
    }
   ],
   "source": [
    "d3"
   ]
  },
  {
   "cell_type": "code",
   "execution_count": 87,
   "id": "a0f8fcb3",
   "metadata": {},
   "outputs": [],
   "source": [
    "d1[2] = 'Do'"
   ]
  },
  {
   "cell_type": "code",
   "execution_count": 88,
   "id": "584f8d86",
   "metadata": {},
   "outputs": [
    {
     "data": {
      "text/plain": [
       "{1: 'One', 2: 'Do'}"
      ]
     },
     "execution_count": 88,
     "metadata": {},
     "output_type": "execute_result"
    }
   ],
   "source": [
    "d1"
   ]
  },
  {
   "cell_type": "code",
   "execution_count": 89,
   "id": "bb90efe6",
   "metadata": {},
   "outputs": [
    {
     "data": {
      "text/plain": [
       "{1: 'One', 2: 'Two'}"
      ]
     },
     "execution_count": 89,
     "metadata": {},
     "output_type": "execute_result"
    }
   ],
   "source": [
    "d3"
   ]
  },
  {
   "cell_type": "code",
   "execution_count": null,
   "id": "1058b4e2",
   "metadata": {},
   "outputs": [],
   "source": [
    "## Identity Operator"
   ]
  },
  {
   "cell_type": "code",
   "execution_count": 91,
   "id": "545797c1",
   "metadata": {},
   "outputs": [
    {
     "data": {
      "text/plain": [
       "{1: 'One', 2: 'Two'}"
      ]
     },
     "execution_count": 91,
     "metadata": {},
     "output_type": "execute_result"
    }
   ],
   "source": [
    "d1 = {1:'One', 2:'Two'}\n",
    "d1"
   ]
  },
  {
   "cell_type": "code",
   "execution_count": 92,
   "id": "8a4154ac",
   "metadata": {},
   "outputs": [
    {
     "data": {
      "text/plain": [
       "{1: 'One', 2: 'Two'}"
      ]
     },
     "execution_count": 92,
     "metadata": {},
     "output_type": "execute_result"
    }
   ],
   "source": [
    "d2  = {1:'One', 2:'Two'}\n",
    "d2"
   ]
  },
  {
   "cell_type": "code",
   "execution_count": 93,
   "id": "dac7c86b",
   "metadata": {},
   "outputs": [
    {
     "data": {
      "text/plain": [
       "True"
      ]
     },
     "execution_count": 93,
     "metadata": {},
     "output_type": "execute_result"
    }
   ],
   "source": [
    "## Equality\n",
    "d1 == d2"
   ]
  },
  {
   "cell_type": "code",
   "execution_count": 94,
   "id": "aad9d6c5",
   "metadata": {},
   "outputs": [
    {
     "data": {
      "text/plain": [
       "False"
      ]
     },
     "execution_count": 94,
     "metadata": {},
     "output_type": "execute_result"
    }
   ],
   "source": [
    "## Identity\n",
    "d1 is d2"
   ]
  },
  {
   "cell_type": "code",
   "execution_count": 95,
   "id": "6284c084",
   "metadata": {},
   "outputs": [],
   "source": [
    "d3 = d1"
   ]
  },
  {
   "cell_type": "code",
   "execution_count": 96,
   "id": "8467372d",
   "metadata": {},
   "outputs": [
    {
     "data": {
      "text/plain": [
       "True"
      ]
     },
     "execution_count": 96,
     "metadata": {},
     "output_type": "execute_result"
    }
   ],
   "source": [
    "d3 == d1"
   ]
  },
  {
   "cell_type": "code",
   "execution_count": 97,
   "id": "7cfd53b6",
   "metadata": {},
   "outputs": [
    {
     "data": {
      "text/plain": [
       "True"
      ]
     },
     "execution_count": 97,
     "metadata": {},
     "output_type": "execute_result"
    }
   ],
   "source": [
    "d3 is d1"
   ]
  },
  {
   "cell_type": "code",
   "execution_count": 98,
   "id": "d5cfce8b",
   "metadata": {},
   "outputs": [
    {
     "data": {
      "text/plain": [
       "140187196024896"
      ]
     },
     "execution_count": 98,
     "metadata": {},
     "output_type": "execute_result"
    }
   ],
   "source": [
    "id(d3)"
   ]
  },
  {
   "cell_type": "code",
   "execution_count": 99,
   "id": "7e9d35c5",
   "metadata": {},
   "outputs": [
    {
     "data": {
      "text/plain": [
       "140187196024896"
      ]
     },
     "execution_count": 99,
     "metadata": {},
     "output_type": "execute_result"
    }
   ],
   "source": [
    "id(d1)"
   ]
  },
  {
   "cell_type": "code",
   "execution_count": null,
   "id": "260d6be2",
   "metadata": {},
   "outputs": [],
   "source": []
  }
 ],
 "metadata": {
  "kernelspec": {
   "display_name": "Python 3 (ipykernel)",
   "language": "python",
   "name": "python3"
  },
  "language_info": {
   "codemirror_mode": {
    "name": "ipython",
    "version": 3
   },
   "file_extension": ".py",
   "mimetype": "text/x-python",
   "name": "python",
   "nbconvert_exporter": "python",
   "pygments_lexer": "ipython3",
   "version": "3.9.13"
  }
 },
 "nbformat": 4,
 "nbformat_minor": 5
}
