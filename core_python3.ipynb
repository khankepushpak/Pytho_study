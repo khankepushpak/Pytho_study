{
 "cells": [
  {
   "cell_type": "markdown",
   "id": "e14ca243",
   "metadata": {},
   "source": [
    "# If Statement"
   ]
  },
  {
   "cell_type": "code",
   "execution_count": 4,
   "id": "411aee0a",
   "metadata": {},
   "outputs": [],
   "source": [
    "x = 70"
   ]
  },
  {
   "cell_type": "code",
   "execution_count": 5,
   "id": "5a20c0d6",
   "metadata": {},
   "outputs": [
    {
     "name": "stdout",
     "output_type": "stream",
     "text": [
      "Greater\n",
      "Hi\n",
      "__________________\n"
     ]
    }
   ],
   "source": [
    "if x > 20:\n",
    "    print('Greater')\n",
    "    print('Hi')\n",
    "else:\n",
    "    print('Lesser')\n",
    "    print('Hello')\n",
    "print('__________________')"
   ]
  },
  {
   "cell_type": "markdown",
   "id": "19e19992",
   "metadata": {},
   "source": [
    "## Find if x is positive or negative"
   ]
  },
  {
   "cell_type": "code",
   "execution_count": 13,
   "id": "c3faa808",
   "metadata": {},
   "outputs": [],
   "source": [
    "x = 0"
   ]
  },
  {
   "cell_type": "code",
   "execution_count": 9,
   "id": "b2bab379",
   "metadata": {},
   "outputs": [
    {
     "name": "stdout",
     "output_type": "stream",
     "text": [
      "-ve\n"
     ]
    }
   ],
   "source": [
    "if x > 0:\n",
    "    print('+ve')\n",
    "else:\n",
    "    print('-ve')"
   ]
  },
  {
   "cell_type": "code",
   "execution_count": 14,
   "id": "881035fa",
   "metadata": {},
   "outputs": [
    {
     "name": "stdout",
     "output_type": "stream",
     "text": [
      "0\n"
     ]
    }
   ],
   "source": [
    "if x > 0:\n",
    "    print('+ve')\n",
    "elif x < 0:\n",
    "    print('-ve')\n",
    "else:\n",
    "    print('0')"
   ]
  },
  {
   "cell_type": "code",
   "execution_count": 20,
   "id": "0f4e6238",
   "metadata": {},
   "outputs": [],
   "source": [
    "x = 16"
   ]
  },
  {
   "cell_type": "code",
   "execution_count": 21,
   "id": "02fea8aa",
   "metadata": {},
   "outputs": [
    {
     "name": "stdout",
     "output_type": "stream",
     "text": [
      "Number out of range\n",
      "Outside if\n"
     ]
    }
   ],
   "source": [
    "if x == 1 :\n",
    "    print('Monday')\n",
    "elif x == 2:\n",
    "    print('Tuesday')\n",
    "elif x == 3:\n",
    "    print('Wednesday')\n",
    "elif x == 4:\n",
    "    print('Thursday')\n",
    "elif x == 5:\n",
    "    print('Friday')\n",
    "elif x == 6 or x == 7:\n",
    "    print('Weekend')\n",
    "else:\n",
    "    print('Number out of range' )\n",
    "\n",
    "print('Outside if')"
   ]
  },
  {
   "cell_type": "markdown",
   "id": "9ab1b82e",
   "metadata": {},
   "source": [
    "## Functions"
   ]
  },
  {
   "cell_type": "code",
   "execution_count": 7,
   "id": "63f6705e",
   "metadata": {},
   "outputs": [],
   "source": [
    "def average(x,y):\n",
    "    '''\n",
    "    Finds the average of two numbers\n",
    "    Parameters: x and y are integers\n",
    "    Returns : Average of x and y\n",
    "    '''\n",
    "    avr = (x + y) / 2\n",
    "    return avr"
   ]
  },
  {
   "cell_type": "code",
   "execution_count": 2,
   "id": "2229b60a",
   "metadata": {},
   "outputs": [
    {
     "data": {
      "text/plain": [
       "7.5"
      ]
     },
     "execution_count": 2,
     "metadata": {},
     "output_type": "execute_result"
    }
   ],
   "source": [
    "average(6,9)"
   ]
  },
  {
   "cell_type": "code",
   "execution_count": 3,
   "id": "bc62f7dc",
   "metadata": {},
   "outputs": [
    {
     "data": {
      "text/plain": [
       "610.5"
      ]
     },
     "execution_count": 3,
     "metadata": {},
     "output_type": "execute_result"
    }
   ],
   "source": [
    "average(456,765)"
   ]
  },
  {
   "cell_type": "code",
   "execution_count": 8,
   "id": "63106c69",
   "metadata": {},
   "outputs": [
    {
     "name": "stdout",
     "output_type": "stream",
     "text": [
      "Help on function average in module __main__:\n",
      "\n",
      "average(x, y)\n",
      "    Finds the average of two numbers\n",
      "    Parameters: x and y are integers\n",
      "    Returns : Average of x and y\n",
      "\n"
     ]
    }
   ],
   "source": [
    "help(average)"
   ]
  },
  {
   "cell_type": "code",
   "execution_count": null,
   "id": "66739f3d",
   "metadata": {},
   "outputs": [],
   "source": []
  },
  {
   "cell_type": "code",
   "execution_count": null,
   "id": "28e60b6b",
   "metadata": {},
   "outputs": [],
   "source": []
  },
  {
   "cell_type": "code",
   "execution_count": null,
   "id": "72966889",
   "metadata": {},
   "outputs": [],
   "source": []
  },
  {
   "cell_type": "code",
   "execution_count": null,
   "id": "8346c723",
   "metadata": {},
   "outputs": [],
   "source": []
  }
 ],
 "metadata": {
  "kernelspec": {
   "display_name": "Python 3 (ipykernel)",
   "language": "python",
   "name": "python3"
  },
  "language_info": {
   "codemirror_mode": {
    "name": "ipython",
    "version": 3
   },
   "file_extension": ".py",
   "mimetype": "text/x-python",
   "name": "python",
   "nbconvert_exporter": "python",
   "pygments_lexer": "ipython3",
   "version": "3.9.13"
  }
 },
 "nbformat": 4,
 "nbformat_minor": 5
}
