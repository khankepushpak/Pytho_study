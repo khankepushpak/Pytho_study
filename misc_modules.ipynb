{
 "cells": [
  {
   "cell_type": "code",
   "execution_count": 1,
   "id": "9354d90b",
   "metadata": {},
   "outputs": [],
   "source": [
    "import math"
   ]
  },
  {
   "cell_type": "code",
   "execution_count": 7,
   "id": "782a4671",
   "metadata": {},
   "outputs": [],
   "source": [
    "#dir(math)"
   ]
  },
  {
   "cell_type": "code",
   "execution_count": 5,
   "id": "54ae51c1",
   "metadata": {},
   "outputs": [
    {
     "data": {
      "text/plain": [
       "8.0"
      ]
     },
     "execution_count": 5,
     "metadata": {},
     "output_type": "execute_result"
    }
   ],
   "source": [
    "math.pow(2,3)"
   ]
  },
  {
   "cell_type": "code",
   "execution_count": null,
   "id": "d5438363",
   "metadata": {},
   "outputs": [],
   "source": [
    "math.ceil(3.2)"
   ]
  },
  {
   "cell_type": "code",
   "execution_count": null,
   "id": "9e8e5381",
   "metadata": {},
   "outputs": [],
   "source": [
    "math.floor(3.8)"
   ]
  },
  {
   "cell_type": "code",
   "execution_count": null,
   "id": "b2c35c04",
   "metadata": {},
   "outputs": [],
   "source": [
    "math.trunc(4.7676)"
   ]
  },
  {
   "cell_type": "code",
   "execution_count": 8,
   "id": "10af4310",
   "metadata": {},
   "outputs": [
    {
     "data": {
      "text/plain": [
       "4"
      ]
     },
     "execution_count": 8,
     "metadata": {},
     "output_type": "execute_result"
    }
   ],
   "source": [
    "round(4.2)"
   ]
  },
  {
   "cell_type": "code",
   "execution_count": 11,
   "id": "1a1cf148",
   "metadata": {},
   "outputs": [
    {
     "data": {
      "text/plain": [
       "5"
      ]
     },
     "execution_count": 11,
     "metadata": {},
     "output_type": "execute_result"
    }
   ],
   "source": [
    "round(4.6)"
   ]
  },
  {
   "cell_type": "code",
   "execution_count": 12,
   "id": "d36189a1",
   "metadata": {},
   "outputs": [
    {
     "data": {
      "text/plain": [
       "1.5849625007211563"
      ]
     },
     "execution_count": 12,
     "metadata": {},
     "output_type": "execute_result"
    }
   ],
   "source": [
    "# log - base 2\n",
    "math.log(3,2)"
   ]
  },
  {
   "cell_type": "code",
   "execution_count": 13,
   "id": "207cb8d0",
   "metadata": {},
   "outputs": [
    {
     "data": {
      "text/plain": [
       "1.0986122886681098"
      ]
     },
     "execution_count": 13,
     "metadata": {},
     "output_type": "execute_result"
    }
   ],
   "source": [
    "# natural log - base e\n",
    "math.log(3)"
   ]
  },
  {
   "cell_type": "code",
   "execution_count": 15,
   "id": "56e7dedf",
   "metadata": {},
   "outputs": [
    {
     "data": {
      "text/plain": [
       "3.0"
      ]
     },
     "execution_count": 15,
     "metadata": {},
     "output_type": "execute_result"
    }
   ],
   "source": [
    "math.sqrt(9)"
   ]
  },
  {
   "cell_type": "code",
   "execution_count": 16,
   "id": "aeed6434",
   "metadata": {},
   "outputs": [
    {
     "data": {
      "text/plain": [
       "3.141592653589793"
      ]
     },
     "execution_count": 16,
     "metadata": {},
     "output_type": "execute_result"
    }
   ],
   "source": [
    "math.pi"
   ]
  },
  {
   "cell_type": "code",
   "execution_count": 17,
   "id": "a8efd071",
   "metadata": {},
   "outputs": [
    {
     "data": {
      "text/plain": [
       "1.0"
      ]
     },
     "execution_count": 17,
     "metadata": {},
     "output_type": "execute_result"
    }
   ],
   "source": [
    "math.cos(0)"
   ]
  },
  {
   "cell_type": "code",
   "execution_count": 18,
   "id": "6c0a768f",
   "metadata": {},
   "outputs": [
    {
     "data": {
      "text/plain": [
       "-0.4480736161291701"
      ]
     },
     "execution_count": 18,
     "metadata": {},
     "output_type": "execute_result"
    }
   ],
   "source": [
    "math.cos(90)"
   ]
  },
  {
   "cell_type": "markdown",
   "id": "16503553",
   "metadata": {},
   "source": [
    "# Calendar"
   ]
  },
  {
   "cell_type": "code",
   "execution_count": 19,
   "id": "75bcd9c2",
   "metadata": {},
   "outputs": [],
   "source": [
    "import calendar"
   ]
  },
  {
   "cell_type": "code",
   "execution_count": null,
   "id": "1e7b0742",
   "metadata": {},
   "outputs": [],
   "source": [
    "#dir(calendar)"
   ]
  },
  {
   "cell_type": "code",
   "execution_count": 25,
   "id": "b718100e",
   "metadata": {},
   "outputs": [
    {
     "name": "stdout",
     "output_type": "stream",
     "text": [
      "The calendar of year 2023 is : \n",
      "                                      2023\n",
      "\n",
      "      January                       February                       March\n",
      "Mo Tu We Th Fr Sa Su          Mo Tu We Th Fr Sa Su          Mo Tu We Th Fr Sa Su\n",
      "                   1                 1  2  3  4  5                 1  2  3  4  5\n",
      " 2  3  4  5  6  7  8           6  7  8  9 10 11 12           6  7  8  9 10 11 12\n",
      " 9 10 11 12 13 14 15          13 14 15 16 17 18 19          13 14 15 16 17 18 19\n",
      "16 17 18 19 20 21 22          20 21 22 23 24 25 26          20 21 22 23 24 25 26\n",
      "23 24 25 26 27 28 29          27 28                         27 28 29 30 31\n",
      "30 31\n",
      "\n",
      "       April                          May                           June\n",
      "Mo Tu We Th Fr Sa Su          Mo Tu We Th Fr Sa Su          Mo Tu We Th Fr Sa Su\n",
      "                1  2           1  2  3  4  5  6  7                    1  2  3  4\n",
      " 3  4  5  6  7  8  9           8  9 10 11 12 13 14           5  6  7  8  9 10 11\n",
      "10 11 12 13 14 15 16          15 16 17 18 19 20 21          12 13 14 15 16 17 18\n",
      "17 18 19 20 21 22 23          22 23 24 25 26 27 28          19 20 21 22 23 24 25\n",
      "24 25 26 27 28 29 30          29 30 31                      26 27 28 29 30\n",
      "\n",
      "        July                         August                      September\n",
      "Mo Tu We Th Fr Sa Su          Mo Tu We Th Fr Sa Su          Mo Tu We Th Fr Sa Su\n",
      "                1  2              1  2  3  4  5  6                       1  2  3\n",
      " 3  4  5  6  7  8  9           7  8  9 10 11 12 13           4  5  6  7  8  9 10\n",
      "10 11 12 13 14 15 16          14 15 16 17 18 19 20          11 12 13 14 15 16 17\n",
      "17 18 19 20 21 22 23          21 22 23 24 25 26 27          18 19 20 21 22 23 24\n",
      "24 25 26 27 28 29 30          28 29 30 31                   25 26 27 28 29 30\n",
      "31\n",
      "\n",
      "      October                       November                      December\n",
      "Mo Tu We Th Fr Sa Su          Mo Tu We Th Fr Sa Su          Mo Tu We Th Fr Sa Su\n",
      "                   1                 1  2  3  4  5                       1  2  3\n",
      " 2  3  4  5  6  7  8           6  7  8  9 10 11 12           4  5  6  7  8  9 10\n",
      " 9 10 11 12 13 14 15          13 14 15 16 17 18 19          11 12 13 14 15 16 17\n",
      "16 17 18 19 20 21 22          20 21 22 23 24 25 26          18 19 20 21 22 23 24\n",
      "23 24 25 26 27 28 29          27 28 29 30                   25 26 27 28 29 30 31\n",
      "30 31\n",
      "\n"
     ]
    }
   ],
   "source": [
    "print (\"The calendar of year 2023 is : \")\n",
    "print(calendar.calendar(2023,2,1,10))"
   ]
  },
  {
   "cell_type": "code",
   "execution_count": null,
   "id": "f04cf55e",
   "metadata": {},
   "outputs": [],
   "source": [
    "for elem in calendar.month_name:\n",
    "    print(elem)"
   ]
  },
  {
   "cell_type": "code",
   "execution_count": 26,
   "id": "706f1009",
   "metadata": {},
   "outputs": [
    {
     "name": "stdout",
     "output_type": "stream",
     "text": [
      "The Dec month of 2022 is :\n",
      "   December 2022\n",
      "Mo Tu We Th Fr Sa Su\n",
      "          1  2  3  4\n",
      " 5  6  7  8  9 10 11\n",
      "12 13 14 15 16 17 18\n",
      "19 20 21 22 23 24 25\n",
      "26 27 28 29 30 31\n",
      "\n"
     ]
    }
   ],
   "source": [
    "print (\"The Dec month of 2022 is :\")\n",
    "print (calendar.month(2022,12,2,1))"
   ]
  },
  {
   "cell_type": "code",
   "execution_count": 28,
   "id": "a6dfa704",
   "metadata": {},
   "outputs": [
    {
     "data": {
      "text/plain": [
       "[[0, 0, 0, 0, 0, 0, 1],\n",
       " [2, 3, 4, 5, 6, 7, 8],\n",
       " [9, 10, 11, 12, 13, 14, 15],\n",
       " [16, 17, 18, 19, 20, 21, 22],\n",
       " [23, 24, 25, 26, 27, 28, 29],\n",
       " [30, 31, 0, 0, 0, 0, 0]]"
      ]
     },
     "execution_count": 28,
     "metadata": {},
     "output_type": "execute_result"
    }
   ],
   "source": [
    "calendar.monthcalendar(2023,1)"
   ]
  },
  {
   "cell_type": "code",
   "execution_count": 30,
   "id": "f4994bda",
   "metadata": {},
   "outputs": [
    {
     "data": {
      "text/plain": [
       "False"
      ]
     },
     "execution_count": 30,
     "metadata": {},
     "output_type": "execute_result"
    }
   ],
   "source": [
    "calendar.isleap(2022)"
   ]
  },
  {
   "cell_type": "markdown",
   "id": "360eaced",
   "metadata": {},
   "source": [
    "# datetime"
   ]
  },
  {
   "cell_type": "code",
   "execution_count": 31,
   "id": "b2b80860",
   "metadata": {},
   "outputs": [],
   "source": [
    "import pandas as pd"
   ]
  },
  {
   "cell_type": "code",
   "execution_count": 32,
   "id": "97568033",
   "metadata": {},
   "outputs": [
    {
     "data": {
      "text/html": [
       "<div>\n",
       "<style scoped>\n",
       "    .dataframe tbody tr th:only-of-type {\n",
       "        vertical-align: middle;\n",
       "    }\n",
       "\n",
       "    .dataframe tbody tr th {\n",
       "        vertical-align: top;\n",
       "    }\n",
       "\n",
       "    .dataframe thead th {\n",
       "        text-align: right;\n",
       "    }\n",
       "</style>\n",
       "<table border=\"1\" class=\"dataframe\">\n",
       "  <thead>\n",
       "    <tr style=\"text-align: right;\">\n",
       "      <th></th>\n",
       "      <th>Directive</th>\n",
       "      <th>Description</th>\n",
       "      <th>Example</th>\n",
       "    </tr>\n",
       "  </thead>\n",
       "  <tbody>\n",
       "    <tr>\n",
       "      <th>0</th>\n",
       "      <td>%a</td>\n",
       "      <td>Weekday, short version</td>\n",
       "      <td>Wed</td>\n",
       "    </tr>\n",
       "    <tr>\n",
       "      <th>1</th>\n",
       "      <td>%A</td>\n",
       "      <td>Weekday, full version</td>\n",
       "      <td>Wednesday</td>\n",
       "    </tr>\n",
       "    <tr>\n",
       "      <th>2</th>\n",
       "      <td>%w</td>\n",
       "      <td>Weekday as a number 0-6, 0 is Sunday</td>\n",
       "      <td>3</td>\n",
       "    </tr>\n",
       "    <tr>\n",
       "      <th>3</th>\n",
       "      <td>%d</td>\n",
       "      <td>Day of month 01-31</td>\n",
       "      <td>31</td>\n",
       "    </tr>\n",
       "    <tr>\n",
       "      <th>4</th>\n",
       "      <td>%b</td>\n",
       "      <td>Month name, short version</td>\n",
       "      <td>Dec</td>\n",
       "    </tr>\n",
       "    <tr>\n",
       "      <th>5</th>\n",
       "      <td>%B</td>\n",
       "      <td>Month name, full version</td>\n",
       "      <td>December</td>\n",
       "    </tr>\n",
       "    <tr>\n",
       "      <th>6</th>\n",
       "      <td>%m</td>\n",
       "      <td>Month as a number 01-12</td>\n",
       "      <td>12</td>\n",
       "    </tr>\n",
       "    <tr>\n",
       "      <th>7</th>\n",
       "      <td>%y</td>\n",
       "      <td>Year, short version, without century</td>\n",
       "      <td>18</td>\n",
       "    </tr>\n",
       "    <tr>\n",
       "      <th>8</th>\n",
       "      <td>%Y</td>\n",
       "      <td>Year, full version</td>\n",
       "      <td>2018</td>\n",
       "    </tr>\n",
       "    <tr>\n",
       "      <th>9</th>\n",
       "      <td>%H</td>\n",
       "      <td>Hour 00-23</td>\n",
       "      <td>17</td>\n",
       "    </tr>\n",
       "    <tr>\n",
       "      <th>10</th>\n",
       "      <td>%I</td>\n",
       "      <td>Hour 00-12</td>\n",
       "      <td>5</td>\n",
       "    </tr>\n",
       "    <tr>\n",
       "      <th>11</th>\n",
       "      <td>%p</td>\n",
       "      <td>AM/PM</td>\n",
       "      <td>PM</td>\n",
       "    </tr>\n",
       "    <tr>\n",
       "      <th>12</th>\n",
       "      <td>%M</td>\n",
       "      <td>Minute 00-59</td>\n",
       "      <td>41</td>\n",
       "    </tr>\n",
       "    <tr>\n",
       "      <th>13</th>\n",
       "      <td>%S</td>\n",
       "      <td>Second 00-59</td>\n",
       "      <td>8</td>\n",
       "    </tr>\n",
       "    <tr>\n",
       "      <th>14</th>\n",
       "      <td>%f</td>\n",
       "      <td>Microsecond 000000-999999</td>\n",
       "      <td>548513</td>\n",
       "    </tr>\n",
       "    <tr>\n",
       "      <th>15</th>\n",
       "      <td>%z</td>\n",
       "      <td>UTC offset</td>\n",
       "      <td>100</td>\n",
       "    </tr>\n",
       "    <tr>\n",
       "      <th>16</th>\n",
       "      <td>%Z</td>\n",
       "      <td>Timezone</td>\n",
       "      <td>CST</td>\n",
       "    </tr>\n",
       "    <tr>\n",
       "      <th>17</th>\n",
       "      <td>%j</td>\n",
       "      <td>Day number of year 001-366</td>\n",
       "      <td>365</td>\n",
       "    </tr>\n",
       "    <tr>\n",
       "      <th>18</th>\n",
       "      <td>%U</td>\n",
       "      <td>Week number of year, Sunday as the first day o...</td>\n",
       "      <td>52</td>\n",
       "    </tr>\n",
       "    <tr>\n",
       "      <th>19</th>\n",
       "      <td>%W</td>\n",
       "      <td>Week number of year, Monday as the first day o...</td>\n",
       "      <td>52</td>\n",
       "    </tr>\n",
       "    <tr>\n",
       "      <th>20</th>\n",
       "      <td>%c</td>\n",
       "      <td>Local version of date and time</td>\n",
       "      <td>Mon Dec 31 17:41:00 2018</td>\n",
       "    </tr>\n",
       "    <tr>\n",
       "      <th>21</th>\n",
       "      <td>%C</td>\n",
       "      <td>Century</td>\n",
       "      <td>20</td>\n",
       "    </tr>\n",
       "    <tr>\n",
       "      <th>22</th>\n",
       "      <td>%x</td>\n",
       "      <td>Local version of date</td>\n",
       "      <td>12/31/18</td>\n",
       "    </tr>\n",
       "    <tr>\n",
       "      <th>23</th>\n",
       "      <td>%X</td>\n",
       "      <td>Local version of time</td>\n",
       "      <td>17:41:00</td>\n",
       "    </tr>\n",
       "    <tr>\n",
       "      <th>24</th>\n",
       "      <td>%%</td>\n",
       "      <td>A % character</td>\n",
       "      <td>%</td>\n",
       "    </tr>\n",
       "    <tr>\n",
       "      <th>25</th>\n",
       "      <td>%G</td>\n",
       "      <td>ISO 8601 year</td>\n",
       "      <td>2018</td>\n",
       "    </tr>\n",
       "    <tr>\n",
       "      <th>26</th>\n",
       "      <td>%u</td>\n",
       "      <td>ISO 8601 weekday (1-7)</td>\n",
       "      <td>1</td>\n",
       "    </tr>\n",
       "    <tr>\n",
       "      <th>27</th>\n",
       "      <td>%V</td>\n",
       "      <td>ISO 8601 weeknumber (01-53)</td>\n",
       "      <td>1</td>\n",
       "    </tr>\n",
       "  </tbody>\n",
       "</table>\n",
       "</div>"
      ],
      "text/plain": [
       "   Directive                                        Description  \\\n",
       "0         %a                             Weekday, short version   \n",
       "1         %A                              Weekday, full version   \n",
       "2         %w               Weekday as a number 0-6, 0 is Sunday   \n",
       "3         %d                                 Day of month 01-31   \n",
       "4         %b                          Month name, short version   \n",
       "5         %B                           Month name, full version   \n",
       "6         %m                            Month as a number 01-12   \n",
       "7         %y               Year, short version, without century   \n",
       "8         %Y                                 Year, full version   \n",
       "9         %H                                         Hour 00-23   \n",
       "10        %I                                         Hour 00-12   \n",
       "11        %p                                              AM/PM   \n",
       "12        %M                                       Minute 00-59   \n",
       "13        %S                                       Second 00-59   \n",
       "14        %f                          Microsecond 000000-999999   \n",
       "15        %z                                         UTC offset   \n",
       "16        %Z                                           Timezone   \n",
       "17        %j                         Day number of year 001-366   \n",
       "18        %U  Week number of year, Sunday as the first day o...   \n",
       "19        %W  Week number of year, Monday as the first day o...   \n",
       "20        %c                     Local version of date and time   \n",
       "21        %C                                            Century   \n",
       "22        %x                              Local version of date   \n",
       "23        %X                              Local version of time   \n",
       "24        %%                                      A % character   \n",
       "25        %G                                      ISO 8601 year   \n",
       "26        %u                             ISO 8601 weekday (1-7)   \n",
       "27        %V                        ISO 8601 weeknumber (01-53)   \n",
       "\n",
       "                     Example  \n",
       "0                        Wed  \n",
       "1                  Wednesday  \n",
       "2                          3  \n",
       "3                         31  \n",
       "4                        Dec  \n",
       "5                   December  \n",
       "6                         12  \n",
       "7                         18  \n",
       "8                       2018  \n",
       "9                         17  \n",
       "10                         5  \n",
       "11                        PM  \n",
       "12                        41  \n",
       "13                         8  \n",
       "14                    548513  \n",
       "15                       100  \n",
       "16                       CST  \n",
       "17                       365  \n",
       "18                        52  \n",
       "19                        52  \n",
       "20  Mon Dec 31 17:41:00 2018  \n",
       "21                        20  \n",
       "22                  12/31/18  \n",
       "23                  17:41:00  \n",
       "24                         %  \n",
       "25                      2018  \n",
       "26                         1  \n",
       "27                         1  "
      ]
     },
     "execution_count": 32,
     "metadata": {},
     "output_type": "execute_result"
    }
   ],
   "source": [
    "df = pd.read_csv('date_format.csv')\n",
    "df"
   ]
  },
  {
   "cell_type": "code",
   "execution_count": 33,
   "id": "050c9cde",
   "metadata": {},
   "outputs": [],
   "source": [
    "import datetime"
   ]
  },
  {
   "cell_type": "code",
   "execution_count": 34,
   "id": "1a092430",
   "metadata": {},
   "outputs": [
    {
     "data": {
      "text/plain": [
       "datetime.datetime"
      ]
     },
     "execution_count": 34,
     "metadata": {},
     "output_type": "execute_result"
    }
   ],
   "source": [
    "x = datetime.datetime.now()\n",
    "type(x)"
   ]
  },
  {
   "cell_type": "code",
   "execution_count": 35,
   "id": "cf9f39c0",
   "metadata": {},
   "outputs": [
    {
     "name": "stdout",
     "output_type": "stream",
     "text": [
      "2022-12-22 08:05:55.990924\n"
     ]
    }
   ],
   "source": [
    "print(x)"
   ]
  },
  {
   "cell_type": "code",
   "execution_count": 36,
   "id": "9db0e8ee",
   "metadata": {},
   "outputs": [
    {
     "name": "stdout",
     "output_type": "stream",
     "text": [
      "2022\n"
     ]
    }
   ],
   "source": [
    "print(x.year)"
   ]
  },
  {
   "cell_type": "code",
   "execution_count": 37,
   "id": "8f3e8208",
   "metadata": {},
   "outputs": [
    {
     "name": "stdout",
     "output_type": "stream",
     "text": [
      "12\n"
     ]
    }
   ],
   "source": [
    "print(x.month)"
   ]
  },
  {
   "cell_type": "code",
   "execution_count": 39,
   "id": "70bdfc95",
   "metadata": {},
   "outputs": [
    {
     "name": "stdout",
     "output_type": "stream",
     "text": [
      "Dec\n"
     ]
    }
   ],
   "source": [
    "print(x.strftime(\"%b\"))"
   ]
  },
  {
   "cell_type": "code",
   "execution_count": 41,
   "id": "58f20269",
   "metadata": {},
   "outputs": [
    {
     "name": "stdout",
     "output_type": "stream",
     "text": [
      "22-Dec-2022 08:05 AM\n"
     ]
    }
   ],
   "source": [
    "print(x.strftime(\"%d-%b-%Y %H:%M %p\"))"
   ]
  },
  {
   "cell_type": "code",
   "execution_count": 42,
   "id": "87cc7b1b",
   "metadata": {},
   "outputs": [
    {
     "name": "stdout",
     "output_type": "stream",
     "text": [
      "22nd December 2022 08:05 AM\n"
     ]
    }
   ],
   "source": [
    "print(x.strftime(\"%dnd %B %Y %H:%M %p\"))"
   ]
  },
  {
   "cell_type": "code",
   "execution_count": 43,
   "id": "ceb35bdf",
   "metadata": {},
   "outputs": [
    {
     "name": "stdout",
     "output_type": "stream",
     "text": [
      "22-12-22\n"
     ]
    }
   ],
   "source": [
    "print(x.strftime(\"%d-%m-%y\"))"
   ]
  },
  {
   "cell_type": "markdown",
   "id": "e05b96d1",
   "metadata": {},
   "source": [
    "#### Create your own datetime object"
   ]
  },
  {
   "cell_type": "code",
   "execution_count": 44,
   "id": "32734817",
   "metadata": {},
   "outputs": [
    {
     "name": "stdout",
     "output_type": "stream",
     "text": [
      "2021-01-20 20:25:00\n"
     ]
    }
   ],
   "source": [
    "x_datetime=datetime.datetime(2021,1,20,20,25,0,0)\n",
    "print(x_datetime)"
   ]
  },
  {
   "cell_type": "code",
   "execution_count": 46,
   "id": "712040c8",
   "metadata": {},
   "outputs": [
    {
     "name": "stdout",
     "output_type": "stream",
     "text": [
      "Wed 20th Jan 20:25 PM\n"
     ]
    }
   ],
   "source": [
    "print(x_datetime.strftime('%a %dth %b %H:%M %p'))"
   ]
  },
  {
   "cell_type": "markdown",
   "id": "b463b58d",
   "metadata": {},
   "source": [
    "#### Create a date object"
   ]
  },
  {
   "cell_type": "code",
   "execution_count": 47,
   "id": "1d2c8ea8",
   "metadata": {},
   "outputs": [
    {
     "name": "stdout",
     "output_type": "stream",
     "text": [
      "2022-12-06\n"
     ]
    }
   ],
   "source": [
    "d = datetime.date(2022,12,6)\n",
    "print(d)"
   ]
  },
  {
   "cell_type": "markdown",
   "id": "f93486b7",
   "metadata": {},
   "source": [
    "#### Create a time object"
   ]
  },
  {
   "cell_type": "code",
   "execution_count": 48,
   "id": "16d86a58",
   "metadata": {},
   "outputs": [
    {
     "name": "stdout",
     "output_type": "stream",
     "text": [
      "18:50:12\n"
     ]
    }
   ],
   "source": [
    "t = datetime.time(18,50,12)\n",
    "print(t)"
   ]
  },
  {
   "cell_type": "code",
   "execution_count": 49,
   "id": "c6517d63",
   "metadata": {},
   "outputs": [
    {
     "name": "stdout",
     "output_type": "stream",
     "text": [
      "18:50:12\n"
     ]
    }
   ],
   "source": [
    "print(t.strftime(\"%H:%M:%S\"))"
   ]
  },
  {
   "cell_type": "markdown",
   "id": "463c9e50",
   "metadata": {},
   "source": [
    "### Date"
   ]
  },
  {
   "cell_type": "code",
   "execution_count": 3,
   "id": "9fb84f2c",
   "metadata": {},
   "outputs": [],
   "source": [
    "from datetime import date"
   ]
  },
  {
   "cell_type": "code",
   "execution_count": 4,
   "id": "df838ea8",
   "metadata": {},
   "outputs": [
    {
     "name": "stdout",
     "output_type": "stream",
     "text": [
      "today's date:  2023-05-11\n"
     ]
    }
   ],
   "source": [
    "print(\"today's date: \", date.today())"
   ]
  },
  {
   "cell_type": "code",
   "execution_count": 5,
   "id": "1eb6b8dd",
   "metadata": {},
   "outputs": [],
   "source": [
    "date1 = date(2018, 12, 13)\n",
    "date2 = date(2019, 2, 25)"
   ]
  },
  {
   "cell_type": "code",
   "execution_count": 6,
   "id": "c2e17068",
   "metadata": {},
   "outputs": [
    {
     "data": {
      "text/plain": [
       "datetime.date"
      ]
     },
     "execution_count": 6,
     "metadata": {},
     "output_type": "execute_result"
    }
   ],
   "source": [
    "type(date1)"
   ]
  },
  {
   "cell_type": "code",
   "execution_count": 7,
   "id": "aa7a2a04",
   "metadata": {},
   "outputs": [],
   "source": [
    "diff = date2 - date1"
   ]
  },
  {
   "cell_type": "code",
   "execution_count": 61,
   "id": "0186801d",
   "metadata": {},
   "outputs": [
    {
     "data": {
      "text/plain": [
       "datetime.timedelta"
      ]
     },
     "execution_count": 61,
     "metadata": {},
     "output_type": "execute_result"
    }
   ],
   "source": [
    "type(diff)"
   ]
  },
  {
   "cell_type": "code",
   "execution_count": 62,
   "id": "93ab34b9",
   "metadata": {},
   "outputs": [
    {
     "data": {
      "text/plain": [
       "datetime.timedelta(days=74)"
      ]
     },
     "execution_count": 62,
     "metadata": {},
     "output_type": "execute_result"
    }
   ],
   "source": [
    "diff"
   ]
  },
  {
   "cell_type": "code",
   "execution_count": 56,
   "id": "ddabc7c2",
   "metadata": {},
   "outputs": [
    {
     "data": {
      "text/plain": [
       "74"
      ]
     },
     "execution_count": 56,
     "metadata": {},
     "output_type": "execute_result"
    }
   ],
   "source": [
    "diff.days"
   ]
  },
  {
   "cell_type": "code",
   "execution_count": 57,
   "id": "ee9a2e55",
   "metadata": {},
   "outputs": [],
   "source": [
    "x = 10 - 5"
   ]
  },
  {
   "cell_type": "code",
   "execution_count": 58,
   "id": "40ab38c8",
   "metadata": {},
   "outputs": [
    {
     "data": {
      "text/plain": [
       "int"
      ]
     },
     "execution_count": 58,
     "metadata": {},
     "output_type": "execute_result"
    }
   ],
   "source": [
    "type(x)"
   ]
  },
  {
   "cell_type": "code",
   "execution_count": null,
   "id": "26532462",
   "metadata": {},
   "outputs": [],
   "source": []
  }
 ],
 "metadata": {
  "kernelspec": {
   "display_name": "Python 3 (ipykernel)",
   "language": "python",
   "name": "python3"
  },
  "language_info": {
   "codemirror_mode": {
    "name": "ipython",
    "version": 3
   },
   "file_extension": ".py",
   "mimetype": "text/x-python",
   "name": "python",
   "nbconvert_exporter": "python",
   "pygments_lexer": "ipython3",
   "version": "3.9.13"
  }
 },
 "nbformat": 4,
 "nbformat_minor": 5
}
