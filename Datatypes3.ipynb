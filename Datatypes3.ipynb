{
 "cells": [
  {
   "cell_type": "markdown",
   "id": "84bd0a68",
   "metadata": {},
   "source": [
    "# <font color = 'maroon'> Jupyter Shortcuts </font>"
   ]
  },
  {
   "cell_type": "markdown",
   "id": "e9ffc594",
   "metadata": {},
   "source": [
    "+ esc + b - Create a cell below the current cell\n",
    "+ esc + a - Create a cell above the current cell\n",
    "+ esc + x - Delete the current cell\n",
    "+ esc + m - Convert current cell to markdown\n",
    "+ esc + y - Convert current cell to code cell"
   ]
  },
  {
   "cell_type": "markdown",
   "id": "75dc7382",
   "metadata": {},
   "source": [
    "# Datatypes in Python"
   ]
  },
  {
   "cell_type": "code",
   "execution_count": 2,
   "id": "9637e52f",
   "metadata": {},
   "outputs": [],
   "source": [
    "# Integer Type\n",
    "x = 10"
   ]
  },
  {
   "cell_type": "code",
   "execution_count": 4,
   "id": "1891b9c1",
   "metadata": {},
   "outputs": [
    {
     "data": {
      "text/plain": [
       "10"
      ]
     },
     "execution_count": 4,
     "metadata": {},
     "output_type": "execute_result"
    }
   ],
   "source": [
    "x"
   ]
  },
  {
   "cell_type": "code",
   "execution_count": 5,
   "id": "aa1490c7",
   "metadata": {},
   "outputs": [
    {
     "data": {
      "text/plain": [
       "int"
      ]
     },
     "execution_count": 5,
     "metadata": {},
     "output_type": "execute_result"
    }
   ],
   "source": [
    "type(x)"
   ]
  },
  {
   "cell_type": "code",
   "execution_count": 6,
   "id": "09187d00",
   "metadata": {},
   "outputs": [],
   "source": [
    "# Float\n",
    "y = 10.56"
   ]
  },
  {
   "cell_type": "code",
   "execution_count": 7,
   "id": "d89fca44",
   "metadata": {},
   "outputs": [
    {
     "data": {
      "text/plain": [
       "10.56"
      ]
     },
     "execution_count": 7,
     "metadata": {},
     "output_type": "execute_result"
    }
   ],
   "source": [
    "y"
   ]
  },
  {
   "cell_type": "code",
   "execution_count": 8,
   "id": "02f37ad7",
   "metadata": {},
   "outputs": [
    {
     "data": {
      "text/plain": [
       "float"
      ]
     },
     "execution_count": 8,
     "metadata": {},
     "output_type": "execute_result"
    }
   ],
   "source": [
    "type(y)"
   ]
  },
  {
   "cell_type": "code",
   "execution_count": 9,
   "id": "05241a04",
   "metadata": {},
   "outputs": [],
   "source": [
    "z = True"
   ]
  },
  {
   "cell_type": "code",
   "execution_count": 10,
   "id": "e5345a35",
   "metadata": {},
   "outputs": [
    {
     "data": {
      "text/plain": [
       "True"
      ]
     },
     "execution_count": 10,
     "metadata": {},
     "output_type": "execute_result"
    }
   ],
   "source": [
    "z"
   ]
  },
  {
   "cell_type": "code",
   "execution_count": 11,
   "id": "0187993a",
   "metadata": {},
   "outputs": [
    {
     "data": {
      "text/plain": [
       "bool"
      ]
     },
     "execution_count": 11,
     "metadata": {},
     "output_type": "execute_result"
    }
   ],
   "source": [
    "type(z)"
   ]
  },
  {
   "cell_type": "markdown",
   "id": "a4010232",
   "metadata": {},
   "source": [
    "## Dynamic Typing"
   ]
  },
  {
   "cell_type": "code",
   "execution_count": 12,
   "id": "29faf16c",
   "metadata": {},
   "outputs": [
    {
     "data": {
      "text/plain": [
       "int"
      ]
     },
     "execution_count": 12,
     "metadata": {},
     "output_type": "execute_result"
    }
   ],
   "source": [
    "x = 10\n",
    "type(x)"
   ]
  },
  {
   "cell_type": "code",
   "execution_count": 13,
   "id": "480b3ca0",
   "metadata": {},
   "outputs": [
    {
     "data": {
      "text/plain": [
       "float"
      ]
     },
     "execution_count": 13,
     "metadata": {},
     "output_type": "execute_result"
    }
   ],
   "source": [
    "x = 6.57\n",
    "type(x)"
   ]
  },
  {
   "cell_type": "code",
   "execution_count": 14,
   "id": "4114e2d5",
   "metadata": {},
   "outputs": [
    {
     "data": {
      "text/plain": [
       "bool"
      ]
     },
     "execution_count": 14,
     "metadata": {},
     "output_type": "execute_result"
    }
   ],
   "source": [
    "x = True\n",
    "type(x)"
   ]
  },
  {
   "cell_type": "markdown",
   "id": "74687fb1",
   "metadata": {},
   "source": [
    "## Arithmetic Operations"
   ]
  },
  {
   "cell_type": "code",
   "execution_count": 15,
   "id": "87be7f29",
   "metadata": {},
   "outputs": [],
   "source": [
    "x = 9\n",
    "y = 4"
   ]
  },
  {
   "cell_type": "code",
   "execution_count": 16,
   "id": "7e9d0a4a",
   "metadata": {},
   "outputs": [
    {
     "data": {
      "text/plain": [
       "13"
      ]
     },
     "execution_count": 16,
     "metadata": {},
     "output_type": "execute_result"
    }
   ],
   "source": [
    "x + y"
   ]
  },
  {
   "cell_type": "code",
   "execution_count": 17,
   "id": "787547fd",
   "metadata": {},
   "outputs": [
    {
     "data": {
      "text/plain": [
       "5"
      ]
     },
     "execution_count": 17,
     "metadata": {},
     "output_type": "execute_result"
    }
   ],
   "source": [
    "x - y"
   ]
  },
  {
   "cell_type": "code",
   "execution_count": 18,
   "id": "9af919cc",
   "metadata": {},
   "outputs": [
    {
     "data": {
      "text/plain": [
       "36"
      ]
     },
     "execution_count": 18,
     "metadata": {},
     "output_type": "execute_result"
    }
   ],
   "source": [
    "x * y"
   ]
  },
  {
   "cell_type": "code",
   "execution_count": 19,
   "id": "6ade1224",
   "metadata": {},
   "outputs": [
    {
     "data": {
      "text/plain": [
       "2.25"
      ]
     },
     "execution_count": 19,
     "metadata": {},
     "output_type": "execute_result"
    }
   ],
   "source": [
    "x / y "
   ]
  },
  {
   "cell_type": "code",
   "execution_count": 20,
   "id": "7dc9b2c9",
   "metadata": {},
   "outputs": [
    {
     "data": {
      "text/plain": [
       "2"
      ]
     },
     "execution_count": 20,
     "metadata": {},
     "output_type": "execute_result"
    }
   ],
   "source": [
    "x // y"
   ]
  },
  {
   "cell_type": "code",
   "execution_count": 21,
   "id": "b5005eb4",
   "metadata": {},
   "outputs": [
    {
     "data": {
      "text/plain": [
       "1"
      ]
     },
     "execution_count": 21,
     "metadata": {},
     "output_type": "execute_result"
    }
   ],
   "source": [
    "x % y"
   ]
  },
  {
   "cell_type": "code",
   "execution_count": 22,
   "id": "4fbdad16",
   "metadata": {},
   "outputs": [],
   "source": [
    "x = -9\n",
    "y = 4"
   ]
  },
  {
   "cell_type": "code",
   "execution_count": 23,
   "id": "e412cf1d",
   "metadata": {},
   "outputs": [
    {
     "data": {
      "text/plain": [
       "-2.25"
      ]
     },
     "execution_count": 23,
     "metadata": {},
     "output_type": "execute_result"
    }
   ],
   "source": [
    "x / y"
   ]
  },
  {
   "cell_type": "code",
   "execution_count": 24,
   "id": "803f3dac",
   "metadata": {},
   "outputs": [
    {
     "data": {
      "text/plain": [
       "-3"
      ]
     },
     "execution_count": 24,
     "metadata": {},
     "output_type": "execute_result"
    }
   ],
   "source": [
    " x // y"
   ]
  },
  {
   "cell_type": "markdown",
   "id": "5d0fa901",
   "metadata": {},
   "source": [
    "## Logical Operations"
   ]
  },
  {
   "cell_type": "code",
   "execution_count": 25,
   "id": "c2eaa86d",
   "metadata": {},
   "outputs": [],
   "source": [
    "x = True\n",
    "y = False"
   ]
  },
  {
   "cell_type": "code",
   "execution_count": 26,
   "id": "7b75e4bc",
   "metadata": {},
   "outputs": [
    {
     "data": {
      "text/plain": [
       "False"
      ]
     },
     "execution_count": 26,
     "metadata": {},
     "output_type": "execute_result"
    }
   ],
   "source": [
    "x and y"
   ]
  },
  {
   "cell_type": "code",
   "execution_count": 27,
   "id": "de08ede1",
   "metadata": {},
   "outputs": [
    {
     "data": {
      "text/plain": [
       "True"
      ]
     },
     "execution_count": 27,
     "metadata": {},
     "output_type": "execute_result"
    }
   ],
   "source": [
    "x or y"
   ]
  },
  {
   "cell_type": "code",
   "execution_count": 28,
   "id": "fb60d920",
   "metadata": {},
   "outputs": [],
   "source": [
    "x = 10 \n",
    "y = 5"
   ]
  },
  {
   "cell_type": "code",
   "execution_count": 29,
   "id": "7d4ac778",
   "metadata": {},
   "outputs": [
    {
     "data": {
      "text/plain": [
       "True"
      ]
     },
     "execution_count": 29,
     "metadata": {},
     "output_type": "execute_result"
    }
   ],
   "source": [
    "x > 4 and y > 4"
   ]
  },
  {
   "cell_type": "markdown",
   "id": "62eb8157",
   "metadata": {},
   "source": [
    "# Collections"
   ]
  },
  {
   "cell_type": "markdown",
   "id": "232ab3c5",
   "metadata": {},
   "source": [
    "## Sequence"
   ]
  },
  {
   "cell_type": "markdown",
   "id": "9edd9262",
   "metadata": {},
   "source": [
    "#### a. List"
   ]
  },
  {
   "cell_type": "code",
   "execution_count": 30,
   "id": "1cebbf02",
   "metadata": {},
   "outputs": [],
   "source": [
    "marks = []"
   ]
  },
  {
   "cell_type": "code",
   "execution_count": 31,
   "id": "3e6b17e6",
   "metadata": {},
   "outputs": [
    {
     "data": {
      "text/plain": [
       "list"
      ]
     },
     "execution_count": 31,
     "metadata": {},
     "output_type": "execute_result"
    }
   ],
   "source": [
    "type(marks)"
   ]
  },
  {
   "cell_type": "code",
   "execution_count": 32,
   "id": "35a97a4e",
   "metadata": {},
   "outputs": [
    {
     "data": {
      "text/plain": [
       "[76, 58, 98, 45, 64]"
      ]
     },
     "execution_count": 32,
     "metadata": {},
     "output_type": "execute_result"
    }
   ],
   "source": [
    "marks = [76,58,98,45,64]\n",
    "marks"
   ]
  },
  {
   "cell_type": "code",
   "execution_count": 33,
   "id": "ab93ed4f",
   "metadata": {},
   "outputs": [
    {
     "data": {
      "text/plain": [
       "['Apples', 'Soap', 'Towels', 'Bread', 'Eggs']"
      ]
     },
     "execution_count": 33,
     "metadata": {},
     "output_type": "execute_result"
    }
   ],
   "source": [
    "shopping_list = ['Apples','Soap','Towels','Bread','Eggs']\n",
    "shopping_list"
   ]
  },
  {
   "cell_type": "markdown",
   "id": "6dc78062",
   "metadata": {},
   "source": [
    "#### b. String"
   ]
  },
  {
   "cell_type": "code",
   "execution_count": 42,
   "id": "526e2097",
   "metadata": {},
   "outputs": [
    {
     "data": {
      "text/plain": [
       "'Hellow World'"
      ]
     },
     "execution_count": 42,
     "metadata": {},
     "output_type": "execute_result"
    }
   ],
   "source": [
    "x = 'Hellow World'\n",
    "x"
   ]
  },
  {
   "cell_type": "code",
   "execution_count": 35,
   "id": "a063992d",
   "metadata": {},
   "outputs": [
    {
     "data": {
      "text/plain": [
       "str"
      ]
     },
     "execution_count": 35,
     "metadata": {},
     "output_type": "execute_result"
    }
   ],
   "source": [
    "type(x)"
   ]
  },
  {
   "cell_type": "code",
   "execution_count": 36,
   "id": "98f82521",
   "metadata": {},
   "outputs": [
    {
     "data": {
      "text/plain": [
       "'Python 3.0'"
      ]
     },
     "execution_count": 36,
     "metadata": {},
     "output_type": "execute_result"
    }
   ],
   "source": [
    "y = \"Python 3.0\"\n",
    "y"
   ]
  },
  {
   "cell_type": "code",
   "execution_count": 37,
   "id": "d2c4bf9d",
   "metadata": {},
   "outputs": [
    {
     "data": {
      "text/plain": [
       "str"
      ]
     },
     "execution_count": 37,
     "metadata": {},
     "output_type": "execute_result"
    }
   ],
   "source": [
    "type(y)"
   ]
  },
  {
   "cell_type": "code",
   "execution_count": 40,
   "id": "5451bb7b",
   "metadata": {},
   "outputs": [
    {
     "name": "stdout",
     "output_type": "stream",
     "text": [
      " Multiline \n",
      "    string\n"
     ]
    }
   ],
   "source": [
    "# doc string\n",
    "z = ''' Multiline \n",
    "    string'''\n",
    "print(z)"
   ]
  },
  {
   "cell_type": "markdown",
   "id": "7b5cd067",
   "metadata": {},
   "source": [
    "#### c. Tuple"
   ]
  },
  {
   "cell_type": "code",
   "execution_count": 43,
   "id": "f2e30a88",
   "metadata": {},
   "outputs": [],
   "source": [
    "tup = ()"
   ]
  },
  {
   "cell_type": "code",
   "execution_count": 44,
   "id": "bc7ef1c9",
   "metadata": {},
   "outputs": [
    {
     "data": {
      "text/plain": [
       "tuple"
      ]
     },
     "execution_count": 44,
     "metadata": {},
     "output_type": "execute_result"
    }
   ],
   "source": [
    "type(tup)"
   ]
  },
  {
   "cell_type": "code",
   "execution_count": 46,
   "id": "9ace2362",
   "metadata": {},
   "outputs": [
    {
     "data": {
      "text/plain": [
       "(1, 2, 3, 4, 5)"
      ]
     },
     "execution_count": 46,
     "metadata": {},
     "output_type": "execute_result"
    }
   ],
   "source": [
    "tup =(1,2,3,4,5)\n",
    "tup"
   ]
  },
  {
   "cell_type": "markdown",
   "id": "444bd2f7",
   "metadata": {},
   "source": [
    "## Accessing elements from sequence"
   ]
  },
  {
   "cell_type": "markdown",
   "id": "2ddb7bbc",
   "metadata": {},
   "source": [
    "#### a. Using Positional Indexing"
   ]
  },
  {
   "cell_type": "code",
   "execution_count": 14,
   "id": "f47bdaf7",
   "metadata": {},
   "outputs": [],
   "source": [
    "lst = [34,56,43,67,87,98,90,40,62]"
   ]
  },
  {
   "cell_type": "code",
   "execution_count": 2,
   "id": "fd8597c1",
   "metadata": {},
   "outputs": [
    {
     "data": {
      "text/plain": [
       "[34, 56, 43, 67, 87, 98, 90, 40, 62]"
      ]
     },
     "execution_count": 2,
     "metadata": {},
     "output_type": "execute_result"
    }
   ],
   "source": [
    "lst"
   ]
  },
  {
   "cell_type": "code",
   "execution_count": 3,
   "id": "b72075a0",
   "metadata": {},
   "outputs": [
    {
     "data": {
      "text/plain": [
       "9"
      ]
     },
     "execution_count": 3,
     "metadata": {},
     "output_type": "execute_result"
    }
   ],
   "source": [
    "len(lst)"
   ]
  },
  {
   "cell_type": "code",
   "execution_count": 4,
   "id": "bc615288",
   "metadata": {},
   "outputs": [
    {
     "data": {
      "text/plain": [
       "67"
      ]
     },
     "execution_count": 4,
     "metadata": {},
     "output_type": "execute_result"
    }
   ],
   "source": [
    "lst[3]"
   ]
  },
  {
   "cell_type": "code",
   "execution_count": 5,
   "id": "893ff6bb",
   "metadata": {},
   "outputs": [
    {
     "data": {
      "text/plain": [
       "[67, 87, 98, 90]"
      ]
     },
     "execution_count": 5,
     "metadata": {},
     "output_type": "execute_result"
    }
   ],
   "source": [
    "lst[3:7]"
   ]
  },
  {
   "cell_type": "code",
   "execution_count": 6,
   "id": "87ee3a60",
   "metadata": {},
   "outputs": [
    {
     "data": {
      "text/plain": [
       "[34, 56, 43, 67, 87]"
      ]
     },
     "execution_count": 6,
     "metadata": {},
     "output_type": "execute_result"
    }
   ],
   "source": [
    "lst[:5]"
   ]
  },
  {
   "cell_type": "code",
   "execution_count": 7,
   "id": "faa453d7",
   "metadata": {},
   "outputs": [
    {
     "data": {
      "text/plain": [
       "[98, 90, 40, 62]"
      ]
     },
     "execution_count": 7,
     "metadata": {},
     "output_type": "execute_result"
    }
   ],
   "source": [
    "lst[5:]"
   ]
  },
  {
   "cell_type": "code",
   "execution_count": 8,
   "id": "ba486e12",
   "metadata": {},
   "outputs": [
    {
     "data": {
      "text/plain": [
       "[34, 56, 43, 67, 87, 98, 90, 40, 62]"
      ]
     },
     "execution_count": 8,
     "metadata": {},
     "output_type": "execute_result"
    }
   ],
   "source": [
    "lst[:]"
   ]
  },
  {
   "cell_type": "code",
   "execution_count": 9,
   "id": "cd0e71f4",
   "metadata": {},
   "outputs": [
    {
     "data": {
      "text/plain": [
       "[34, 56, 43, 67, 87, 98, 90, 40, 62]"
      ]
     },
     "execution_count": 9,
     "metadata": {},
     "output_type": "execute_result"
    }
   ],
   "source": [
    "lst"
   ]
  },
  {
   "cell_type": "code",
   "execution_count": 10,
   "id": "a065007b",
   "metadata": {},
   "outputs": [
    {
     "data": {
      "text/plain": [
       "[56, 43, 67, 87, 98, 90, 40]"
      ]
     },
     "execution_count": 10,
     "metadata": {},
     "output_type": "execute_result"
    }
   ],
   "source": [
    "lst[1:8]"
   ]
  },
  {
   "cell_type": "code",
   "execution_count": 16,
   "id": "94168f47",
   "metadata": {},
   "outputs": [
    {
     "data": {
      "text/plain": [
       "[56, 67, 98, 40]"
      ]
     },
     "execution_count": 16,
     "metadata": {},
     "output_type": "execute_result"
    }
   ],
   "source": [
    "lst[1:8:2]"
   ]
  },
  {
   "cell_type": "code",
   "execution_count": 12,
   "id": "8b114b8c",
   "metadata": {},
   "outputs": [
    {
     "data": {
      "text/plain": [
       "[34, 43, 87, 90, 62]"
      ]
     },
     "execution_count": 12,
     "metadata": {},
     "output_type": "execute_result"
    }
   ],
   "source": [
    "lst[::2]"
   ]
  },
  {
   "cell_type": "code",
   "execution_count": 13,
   "id": "98f38feb",
   "metadata": {},
   "outputs": [
    {
     "data": {
      "text/plain": [
       "[(0, 34),\n",
       " (1, 56),\n",
       " (2, 43),\n",
       " (3, 67),\n",
       " (4, 87),\n",
       " (5, 98),\n",
       " (6, 90),\n",
       " (7, 40),\n",
       " (8, 62)]"
      ]
     },
     "execution_count": 13,
     "metadata": {},
     "output_type": "execute_result"
    }
   ],
   "source": [
    "list(enumerate(lst))"
   ]
  },
  {
   "cell_type": "code",
   "execution_count": 17,
   "id": "c37cd8d5",
   "metadata": {},
   "outputs": [],
   "source": [
    "mystr = 'I love python'"
   ]
  },
  {
   "cell_type": "code",
   "execution_count": 18,
   "id": "0b92482a",
   "metadata": {},
   "outputs": [
    {
     "data": {
      "text/plain": [
       "[(0, 'I'),\n",
       " (1, ' '),\n",
       " (2, 'l'),\n",
       " (3, 'o'),\n",
       " (4, 'v'),\n",
       " (5, 'e'),\n",
       " (6, ' '),\n",
       " (7, 'p'),\n",
       " (8, 'y'),\n",
       " (9, 't'),\n",
       " (10, 'h'),\n",
       " (11, 'o'),\n",
       " (12, 'n')]"
      ]
     },
     "execution_count": 18,
     "metadata": {},
     "output_type": "execute_result"
    }
   ],
   "source": [
    "list(enumerate(mystr))"
   ]
  },
  {
   "cell_type": "code",
   "execution_count": 19,
   "id": "37339d2b",
   "metadata": {},
   "outputs": [
    {
     "data": {
      "text/plain": [
       "'python'"
      ]
     },
     "execution_count": 19,
     "metadata": {},
     "output_type": "execute_result"
    }
   ],
   "source": [
    "mystr[7:]"
   ]
  },
  {
   "cell_type": "code",
   "execution_count": 21,
   "id": "7b808c19",
   "metadata": {},
   "outputs": [
    {
     "data": {
      "text/plain": [
       "'n'"
      ]
     },
     "execution_count": 21,
     "metadata": {},
     "output_type": "execute_result"
    }
   ],
   "source": [
    "mystr[-1]"
   ]
  },
  {
   "cell_type": "code",
   "execution_count": 22,
   "id": "0332074d",
   "metadata": {},
   "outputs": [],
   "source": [
    "tup = (34,66,77,22,55)"
   ]
  },
  {
   "cell_type": "code",
   "execution_count": 23,
   "id": "1bdd01ca",
   "metadata": {},
   "outputs": [
    {
     "data": {
      "text/plain": [
       "22"
      ]
     },
     "execution_count": 23,
     "metadata": {},
     "output_type": "execute_result"
    }
   ],
   "source": [
    "tup[3]"
   ]
  },
  {
   "cell_type": "code",
   "execution_count": 24,
   "id": "35dfa36d",
   "metadata": {},
   "outputs": [
    {
     "data": {
      "text/plain": [
       "(66, 77, 22)"
      ]
     },
     "execution_count": 24,
     "metadata": {},
     "output_type": "execute_result"
    }
   ],
   "source": [
    "tup[1:4]"
   ]
  },
  {
   "cell_type": "markdown",
   "id": "7f30065b",
   "metadata": {},
   "source": [
    "#### b. Using for loop"
   ]
  },
  {
   "cell_type": "code",
   "execution_count": 25,
   "id": "497e3536",
   "metadata": {},
   "outputs": [],
   "source": [
    "shopping_list = ['Apples','Soap','Towels','Bread','Eggs']"
   ]
  },
  {
   "cell_type": "code",
   "execution_count": 33,
   "id": "725af284",
   "metadata": {},
   "outputs": [
    {
     "name": "stdout",
     "output_type": "stream",
     "text": [
      "Apples\n",
      "Hi\n",
      "Soap\n",
      "Hi\n",
      "Towels\n",
      "Hi\n",
      "Bread\n",
      "Hi\n",
      "Eggs\n",
      "Hi\n",
      "Hello\n"
     ]
    }
   ],
   "source": [
    "for x in shopping_list:\n",
    "    print(x)    \n",
    "    print('Hi')\n",
    "print('Hello') "
   ]
  },
  {
   "cell_type": "code",
   "execution_count": 34,
   "id": "890982c0",
   "metadata": {},
   "outputs": [],
   "source": [
    "mystr = 'Python3.0'"
   ]
  },
  {
   "cell_type": "code",
   "execution_count": 35,
   "id": "12c04e6d",
   "metadata": {},
   "outputs": [
    {
     "name": "stdout",
     "output_type": "stream",
     "text": [
      "P\n",
      "y\n",
      "t\n",
      "h\n",
      "o\n",
      "n\n",
      "3\n",
      ".\n",
      "0\n"
     ]
    }
   ],
   "source": [
    "for x in mystr:\n",
    "    print(x)"
   ]
  },
  {
   "cell_type": "code",
   "execution_count": 36,
   "id": "4d2106c8",
   "metadata": {},
   "outputs": [],
   "source": [
    "marks = [45,69,89,77,34]"
   ]
  },
  {
   "cell_type": "code",
   "execution_count": 38,
   "id": "510bf2f1",
   "metadata": {},
   "outputs": [
    {
     "name": "stdout",
     "output_type": "stream",
     "text": [
      "45  --> Pass\n",
      "69  --> First Class\n",
      "89  --> Distinction\n",
      "77  --> First Class\n",
      "34  --> Pass\n",
      "Completed\n"
     ]
    }
   ],
   "source": [
    "for x in marks:\n",
    "    if x > 80:\n",
    "        print(x,' --> Distinction')\n",
    "    elif x > 60:\n",
    "        print(x,' --> First Class')\n",
    "    else:\n",
    "        print(x,' --> Pass')\n",
    "\n",
    "print('Completed')"
   ]
  },
  {
   "cell_type": "markdown",
   "id": "474fa834",
   "metadata": {},
   "source": [
    "### List Methods"
   ]
  },
  {
   "cell_type": "code",
   "execution_count": 1,
   "id": "51c78895",
   "metadata": {},
   "outputs": [
    {
     "data": {
      "text/plain": [
       "['__add__',\n",
       " '__class__',\n",
       " '__contains__',\n",
       " '__delattr__',\n",
       " '__delitem__',\n",
       " '__dir__',\n",
       " '__doc__',\n",
       " '__eq__',\n",
       " '__format__',\n",
       " '__ge__',\n",
       " '__getattribute__',\n",
       " '__getitem__',\n",
       " '__gt__',\n",
       " '__hash__',\n",
       " '__iadd__',\n",
       " '__imul__',\n",
       " '__init__',\n",
       " '__init_subclass__',\n",
       " '__iter__',\n",
       " '__le__',\n",
       " '__len__',\n",
       " '__lt__',\n",
       " '__mul__',\n",
       " '__ne__',\n",
       " '__new__',\n",
       " '__reduce__',\n",
       " '__reduce_ex__',\n",
       " '__repr__',\n",
       " '__reversed__',\n",
       " '__rmul__',\n",
       " '__setattr__',\n",
       " '__setitem__',\n",
       " '__sizeof__',\n",
       " '__str__',\n",
       " '__subclasshook__',\n",
       " 'append',\n",
       " 'clear',\n",
       " 'copy',\n",
       " 'count',\n",
       " 'extend',\n",
       " 'index',\n",
       " 'insert',\n",
       " 'pop',\n",
       " 'remove',\n",
       " 'reverse',\n",
       " 'sort']"
      ]
     },
     "execution_count": 1,
     "metadata": {},
     "output_type": "execute_result"
    }
   ],
   "source": [
    "dir(list)"
   ]
  },
  {
   "cell_type": "code",
   "execution_count": 2,
   "id": "21551545",
   "metadata": {},
   "outputs": [],
   "source": [
    "lst = [36,57,88,44,60]"
   ]
  },
  {
   "cell_type": "code",
   "execution_count": 3,
   "id": "9d029089",
   "metadata": {},
   "outputs": [],
   "source": [
    "lst.append(100)"
   ]
  },
  {
   "cell_type": "code",
   "execution_count": 4,
   "id": "27d91925",
   "metadata": {},
   "outputs": [
    {
     "data": {
      "text/plain": [
       "[36, 57, 88, 44, 60, 100]"
      ]
     },
     "execution_count": 4,
     "metadata": {},
     "output_type": "execute_result"
    }
   ],
   "source": [
    "lst"
   ]
  },
  {
   "cell_type": "code",
   "execution_count": 5,
   "id": "1df58f7c",
   "metadata": {},
   "outputs": [],
   "source": [
    "lst.insert(3,300)"
   ]
  },
  {
   "cell_type": "code",
   "execution_count": 6,
   "id": "5fd1ee86",
   "metadata": {},
   "outputs": [
    {
     "data": {
      "text/plain": [
       "[36, 57, 88, 300, 44, 60, 100]"
      ]
     },
     "execution_count": 6,
     "metadata": {},
     "output_type": "execute_result"
    }
   ],
   "source": [
    "lst"
   ]
  },
  {
   "cell_type": "code",
   "execution_count": 7,
   "id": "d0410f43",
   "metadata": {},
   "outputs": [
    {
     "data": {
      "text/plain": [
       "100"
      ]
     },
     "execution_count": 7,
     "metadata": {},
     "output_type": "execute_result"
    }
   ],
   "source": [
    "lst.pop()"
   ]
  },
  {
   "cell_type": "code",
   "execution_count": 8,
   "id": "d790cd68",
   "metadata": {},
   "outputs": [
    {
     "data": {
      "text/plain": [
       "[36, 57, 88, 300, 44, 60]"
      ]
     },
     "execution_count": 8,
     "metadata": {},
     "output_type": "execute_result"
    }
   ],
   "source": [
    "lst"
   ]
  },
  {
   "cell_type": "code",
   "execution_count": 9,
   "id": "627497cd",
   "metadata": {},
   "outputs": [
    {
     "data": {
      "text/plain": [
       "60"
      ]
     },
     "execution_count": 9,
     "metadata": {},
     "output_type": "execute_result"
    }
   ],
   "source": [
    "lst.pop()"
   ]
  },
  {
   "cell_type": "code",
   "execution_count": 10,
   "id": "fb1fa08a",
   "metadata": {},
   "outputs": [
    {
     "data": {
      "text/plain": [
       "[36, 57, 88, 300, 44]"
      ]
     },
     "execution_count": 10,
     "metadata": {},
     "output_type": "execute_result"
    }
   ],
   "source": [
    "lst"
   ]
  },
  {
   "cell_type": "code",
   "execution_count": 12,
   "id": "849ef43a",
   "metadata": {},
   "outputs": [
    {
     "data": {
      "text/plain": [
       "88"
      ]
     },
     "execution_count": 12,
     "metadata": {},
     "output_type": "execute_result"
    }
   ],
   "source": [
    "lst.pop(2)"
   ]
  },
  {
   "cell_type": "code",
   "execution_count": 13,
   "id": "04b8836e",
   "metadata": {},
   "outputs": [
    {
     "data": {
      "text/plain": [
       "[36, 57, 300, 44]"
      ]
     },
     "execution_count": 13,
     "metadata": {},
     "output_type": "execute_result"
    }
   ],
   "source": [
    "lst"
   ]
  },
  {
   "cell_type": "code",
   "execution_count": 14,
   "id": "86ef3d69",
   "metadata": {},
   "outputs": [],
   "source": [
    "lst.remove(300)"
   ]
  },
  {
   "cell_type": "code",
   "execution_count": 15,
   "id": "a6b0ccca",
   "metadata": {},
   "outputs": [
    {
     "data": {
      "text/plain": [
       "[36, 57, 44]"
      ]
     },
     "execution_count": 15,
     "metadata": {},
     "output_type": "execute_result"
    }
   ],
   "source": [
    "lst"
   ]
  },
  {
   "cell_type": "code",
   "execution_count": 16,
   "id": "5a147249",
   "metadata": {},
   "outputs": [],
   "source": [
    "mylst = ['Tom','Jones','James','Tim']"
   ]
  },
  {
   "cell_type": "code",
   "execution_count": 17,
   "id": "7b18d483",
   "metadata": {},
   "outputs": [],
   "source": [
    "mylst.append('Mary')"
   ]
  },
  {
   "cell_type": "code",
   "execution_count": 18,
   "id": "d91106fd",
   "metadata": {},
   "outputs": [
    {
     "data": {
      "text/plain": [
       "['Tom', 'Jones', 'James', 'Tim', 'Mary']"
      ]
     },
     "execution_count": 18,
     "metadata": {},
     "output_type": "execute_result"
    }
   ],
   "source": [
    "mylst"
   ]
  },
  {
   "cell_type": "code",
   "execution_count": 19,
   "id": "89451088",
   "metadata": {},
   "outputs": [],
   "source": [
    "mylst.insert(2,'Jon')"
   ]
  },
  {
   "cell_type": "code",
   "execution_count": 20,
   "id": "e8a62ca3",
   "metadata": {},
   "outputs": [
    {
     "data": {
      "text/plain": [
       "['Tom', 'Jones', 'Jon', 'James', 'Tim', 'Mary']"
      ]
     },
     "execution_count": 20,
     "metadata": {},
     "output_type": "execute_result"
    }
   ],
   "source": [
    "mylst"
   ]
  },
  {
   "cell_type": "code",
   "execution_count": 21,
   "id": "f775b347",
   "metadata": {},
   "outputs": [],
   "source": [
    "mylst.remove('Jones')"
   ]
  },
  {
   "cell_type": "code",
   "execution_count": 22,
   "id": "09bb1757",
   "metadata": {},
   "outputs": [
    {
     "data": {
      "text/plain": [
       "['Tom', 'Jon', 'James', 'Tim', 'Mary']"
      ]
     },
     "execution_count": 22,
     "metadata": {},
     "output_type": "execute_result"
    }
   ],
   "source": [
    "mylst"
   ]
  },
  {
   "cell_type": "code",
   "execution_count": 23,
   "id": "96ead8f7",
   "metadata": {},
   "outputs": [
    {
     "data": {
      "text/plain": [
       "[36, 57, 44]"
      ]
     },
     "execution_count": 23,
     "metadata": {},
     "output_type": "execute_result"
    }
   ],
   "source": [
    "lst"
   ]
  },
  {
   "cell_type": "code",
   "execution_count": 24,
   "id": "a5618536",
   "metadata": {},
   "outputs": [],
   "source": [
    "lst.clear()"
   ]
  },
  {
   "cell_type": "code",
   "execution_count": 25,
   "id": "7346d509",
   "metadata": {},
   "outputs": [
    {
     "data": {
      "text/plain": [
       "[]"
      ]
     },
     "execution_count": 25,
     "metadata": {},
     "output_type": "execute_result"
    }
   ],
   "source": [
    "lst"
   ]
  },
  {
   "cell_type": "code",
   "execution_count": 26,
   "id": "88fcb224",
   "metadata": {},
   "outputs": [],
   "source": [
    "lst = [36,57,88,44,60,34]"
   ]
  },
  {
   "cell_type": "code",
   "execution_count": 27,
   "id": "08f7e5f9",
   "metadata": {},
   "outputs": [],
   "source": [
    "lst.sort()"
   ]
  },
  {
   "cell_type": "code",
   "execution_count": 28,
   "id": "4d840591",
   "metadata": {},
   "outputs": [
    {
     "data": {
      "text/plain": [
       "[34, 36, 44, 57, 60, 88]"
      ]
     },
     "execution_count": 28,
     "metadata": {},
     "output_type": "execute_result"
    }
   ],
   "source": [
    "lst"
   ]
  },
  {
   "cell_type": "code",
   "execution_count": 29,
   "id": "187249a2",
   "metadata": {},
   "outputs": [],
   "source": [
    "lst.sort(reverse = True)"
   ]
  },
  {
   "cell_type": "code",
   "execution_count": 30,
   "id": "42ecc950",
   "metadata": {},
   "outputs": [
    {
     "data": {
      "text/plain": [
       "[88, 60, 57, 44, 36, 34]"
      ]
     },
     "execution_count": 30,
     "metadata": {},
     "output_type": "execute_result"
    }
   ],
   "source": [
    "lst"
   ]
  },
  {
   "cell_type": "code",
   "execution_count": 31,
   "id": "a978dc80",
   "metadata": {},
   "outputs": [],
   "source": [
    "lst = [36,57,88,44,60,34]"
   ]
  },
  {
   "cell_type": "code",
   "execution_count": 32,
   "id": "11099739",
   "metadata": {},
   "outputs": [],
   "source": [
    "lst.reverse()"
   ]
  },
  {
   "cell_type": "code",
   "execution_count": 33,
   "id": "c61b32a4",
   "metadata": {},
   "outputs": [
    {
     "data": {
      "text/plain": [
       "[34, 60, 44, 88, 57, 36]"
      ]
     },
     "execution_count": 33,
     "metadata": {},
     "output_type": "execute_result"
    }
   ],
   "source": [
    "lst"
   ]
  },
  {
   "cell_type": "code",
   "execution_count": 34,
   "id": "9290b080",
   "metadata": {},
   "outputs": [
    {
     "data": {
      "text/plain": [
       "['Tom', 'Jon', 'James', 'Tim', 'Mary']"
      ]
     },
     "execution_count": 34,
     "metadata": {},
     "output_type": "execute_result"
    }
   ],
   "source": [
    "mylst"
   ]
  },
  {
   "cell_type": "code",
   "execution_count": 35,
   "id": "4cd767dc",
   "metadata": {},
   "outputs": [],
   "source": [
    "mylst.sort()"
   ]
  },
  {
   "cell_type": "code",
   "execution_count": 36,
   "id": "4182e8de",
   "metadata": {},
   "outputs": [
    {
     "data": {
      "text/plain": [
       "['James', 'Jon', 'Mary', 'Tim', 'Tom']"
      ]
     },
     "execution_count": 36,
     "metadata": {},
     "output_type": "execute_result"
    }
   ],
   "source": [
    "mylst"
   ]
  },
  {
   "cell_type": "code",
   "execution_count": 37,
   "id": "43369c96",
   "metadata": {},
   "outputs": [],
   "source": [
    "lst = [36,57,88,44,60,34,57,60,20,60]"
   ]
  },
  {
   "cell_type": "code",
   "execution_count": 38,
   "id": "8b26079a",
   "metadata": {},
   "outputs": [
    {
     "data": {
      "text/plain": [
       "3"
      ]
     },
     "execution_count": 38,
     "metadata": {},
     "output_type": "execute_result"
    }
   ],
   "source": [
    "lst.count(60)"
   ]
  },
  {
   "cell_type": "code",
   "execution_count": 39,
   "id": "49f347da",
   "metadata": {},
   "outputs": [
    {
     "data": {
      "text/plain": [
       "2"
      ]
     },
     "execution_count": 39,
     "metadata": {},
     "output_type": "execute_result"
    }
   ],
   "source": [
    "lst.count(57)"
   ]
  },
  {
   "cell_type": "code",
   "execution_count": 40,
   "id": "4ba22888",
   "metadata": {},
   "outputs": [
    {
     "data": {
      "text/plain": [
       "1"
      ]
     },
     "execution_count": 40,
     "metadata": {},
     "output_type": "execute_result"
    }
   ],
   "source": [
    "lst.count(88)"
   ]
  },
  {
   "cell_type": "code",
   "execution_count": 41,
   "id": "9f511077",
   "metadata": {},
   "outputs": [
    {
     "data": {
      "text/plain": [
       "2"
      ]
     },
     "execution_count": 41,
     "metadata": {},
     "output_type": "execute_result"
    }
   ],
   "source": [
    "lst.index(88)"
   ]
  },
  {
   "cell_type": "code",
   "execution_count": 42,
   "id": "c6ed2097",
   "metadata": {},
   "outputs": [
    {
     "data": {
      "text/plain": [
       "4"
      ]
     },
     "execution_count": 42,
     "metadata": {},
     "output_type": "execute_result"
    }
   ],
   "source": [
    "lst.index(60)"
   ]
  },
  {
   "cell_type": "code",
   "execution_count": 79,
   "id": "18b67f66",
   "metadata": {},
   "outputs": [],
   "source": [
    "lst = [1,5,3,2]"
   ]
  },
  {
   "cell_type": "code",
   "execution_count": 80,
   "id": "700edcaf",
   "metadata": {},
   "outputs": [],
   "source": [
    "lst.reverse()"
   ]
  },
  {
   "cell_type": "code",
   "execution_count": 81,
   "id": "d8fd2d7a",
   "metadata": {},
   "outputs": [
    {
     "data": {
      "text/plain": [
       "[2, 3, 5, 1]"
      ]
     },
     "execution_count": 81,
     "metadata": {},
     "output_type": "execute_result"
    }
   ],
   "source": [
    "lst"
   ]
  },
  {
   "cell_type": "code",
   "execution_count": 82,
   "id": "fb75ac53",
   "metadata": {},
   "outputs": [],
   "source": [
    "lst2 = [11,23,12,45]"
   ]
  },
  {
   "cell_type": "code",
   "execution_count": 85,
   "id": "067dca67",
   "metadata": {},
   "outputs": [
    {
     "data": {
      "text/plain": [
       "[45, 12, 23, 11]"
      ]
     },
     "execution_count": 85,
     "metadata": {},
     "output_type": "execute_result"
    }
   ],
   "source": [
    "lst2[::-1]"
   ]
  },
  {
   "cell_type": "code",
   "execution_count": 86,
   "id": "367bed57",
   "metadata": {},
   "outputs": [
    {
     "data": {
      "text/plain": [
       "[11, 23, 12, 45]"
      ]
     },
     "execution_count": 86,
     "metadata": {},
     "output_type": "execute_result"
    }
   ],
   "source": [
    "lst2"
   ]
  },
  {
   "cell_type": "markdown",
   "id": "cb0b89c6",
   "metadata": {},
   "source": [
    "### Tuple Methods"
   ]
  },
  {
   "cell_type": "code",
   "execution_count": 44,
   "id": "f26d678a",
   "metadata": {},
   "outputs": [
    {
     "data": {
      "text/plain": [
       "['__add__',\n",
       " '__class__',\n",
       " '__contains__',\n",
       " '__delattr__',\n",
       " '__dir__',\n",
       " '__doc__',\n",
       " '__eq__',\n",
       " '__format__',\n",
       " '__ge__',\n",
       " '__getattribute__',\n",
       " '__getitem__',\n",
       " '__getnewargs__',\n",
       " '__gt__',\n",
       " '__hash__',\n",
       " '__init__',\n",
       " '__init_subclass__',\n",
       " '__iter__',\n",
       " '__le__',\n",
       " '__len__',\n",
       " '__lt__',\n",
       " '__mul__',\n",
       " '__ne__',\n",
       " '__new__',\n",
       " '__reduce__',\n",
       " '__reduce_ex__',\n",
       " '__repr__',\n",
       " '__rmul__',\n",
       " '__setattr__',\n",
       " '__sizeof__',\n",
       " '__str__',\n",
       " '__subclasshook__',\n",
       " 'count',\n",
       " 'index']"
      ]
     },
     "execution_count": 44,
     "metadata": {},
     "output_type": "execute_result"
    }
   ],
   "source": [
    "dir(tuple)"
   ]
  },
  {
   "cell_type": "code",
   "execution_count": 45,
   "id": "0b2fff78",
   "metadata": {},
   "outputs": [],
   "source": [
    "tup = (19,34,12,19,67,77,34,70,34)"
   ]
  },
  {
   "cell_type": "code",
   "execution_count": 46,
   "id": "a6805121",
   "metadata": {},
   "outputs": [
    {
     "data": {
      "text/plain": [
       "2"
      ]
     },
     "execution_count": 46,
     "metadata": {},
     "output_type": "execute_result"
    }
   ],
   "source": [
    "tup.count(19)"
   ]
  },
  {
   "cell_type": "code",
   "execution_count": 47,
   "id": "d08332df",
   "metadata": {},
   "outputs": [
    {
     "data": {
      "text/plain": [
       "7"
      ]
     },
     "execution_count": 47,
     "metadata": {},
     "output_type": "execute_result"
    }
   ],
   "source": [
    "tup.index(70)"
   ]
  },
  {
   "cell_type": "markdown",
   "id": "287b3c78",
   "metadata": {},
   "source": [
    "## String"
   ]
  },
  {
   "cell_type": "code",
   "execution_count": 87,
   "id": "0a057cb6",
   "metadata": {},
   "outputs": [],
   "source": [
    "mystr = 'i love python'"
   ]
  },
  {
   "cell_type": "code",
   "execution_count": 88,
   "id": "7961409d",
   "metadata": {},
   "outputs": [
    {
     "data": {
      "text/plain": [
       "'I love python'"
      ]
     },
     "execution_count": 88,
     "metadata": {},
     "output_type": "execute_result"
    }
   ],
   "source": [
    "mystr.capitalize()"
   ]
  },
  {
   "cell_type": "code",
   "execution_count": 89,
   "id": "918ba7e9",
   "metadata": {},
   "outputs": [
    {
     "data": {
      "text/plain": [
       "'i love python'"
      ]
     },
     "execution_count": 89,
     "metadata": {},
     "output_type": "execute_result"
    }
   ],
   "source": [
    "mystr"
   ]
  },
  {
   "cell_type": "code",
   "execution_count": 90,
   "id": "adb764d2",
   "metadata": {},
   "outputs": [],
   "source": [
    "new_str = mystr.title()"
   ]
  },
  {
   "cell_type": "code",
   "execution_count": 91,
   "id": "3d2dab30",
   "metadata": {},
   "outputs": [
    {
     "data": {
      "text/plain": [
       "'I Love Python'"
      ]
     },
     "execution_count": 91,
     "metadata": {},
     "output_type": "execute_result"
    }
   ],
   "source": [
    "new_str"
   ]
  },
  {
   "cell_type": "code",
   "execution_count": 54,
   "id": "61508ed1",
   "metadata": {},
   "outputs": [
    {
     "data": {
      "text/plain": [
       "'I LOVE PYTHON'"
      ]
     },
     "execution_count": 54,
     "metadata": {},
     "output_type": "execute_result"
    }
   ],
   "source": [
    "mystr.upper()"
   ]
  },
  {
   "cell_type": "code",
   "execution_count": 55,
   "id": "ac1479c2",
   "metadata": {},
   "outputs": [],
   "source": [
    "s2 = 'Python'"
   ]
  },
  {
   "cell_type": "code",
   "execution_count": 56,
   "id": "6ab880f9",
   "metadata": {},
   "outputs": [
    {
     "data": {
      "text/plain": [
       "'python'"
      ]
     },
     "execution_count": 56,
     "metadata": {},
     "output_type": "execute_result"
    }
   ],
   "source": [
    "s2.lower()"
   ]
  },
  {
   "cell_type": "code",
   "execution_count": 57,
   "id": "3366e1b8",
   "metadata": {},
   "outputs": [
    {
     "data": {
      "text/plain": [
       "'pYTHON'"
      ]
     },
     "execution_count": 57,
     "metadata": {},
     "output_type": "execute_result"
    }
   ],
   "source": [
    "s2.swapcase()"
   ]
  },
  {
   "cell_type": "code",
   "execution_count": 66,
   "id": "15d5e902",
   "metadata": {},
   "outputs": [],
   "source": [
    "mystr = 'Python3.0'"
   ]
  },
  {
   "cell_type": "code",
   "execution_count": 67,
   "id": "2f0669be",
   "metadata": {},
   "outputs": [
    {
     "data": {
      "text/plain": [
       "(False, False, False)"
      ]
     },
     "execution_count": 67,
     "metadata": {},
     "output_type": "execute_result"
    }
   ],
   "source": [
    "mystr.isalpha(), mystr.isalnum(), mystr.isnumeric()"
   ]
  },
  {
   "cell_type": "code",
   "execution_count": 68,
   "id": "dee926c8",
   "metadata": {},
   "outputs": [],
   "source": [
    "mystr = '   python   '"
   ]
  },
  {
   "cell_type": "code",
   "execution_count": 70,
   "id": "79105528",
   "metadata": {},
   "outputs": [
    {
     "data": {
      "text/plain": [
       "('python', '   python', 'python   ')"
      ]
     },
     "execution_count": 70,
     "metadata": {},
     "output_type": "execute_result"
    }
   ],
   "source": [
    "mystr.strip(), mystr.rstrip(), mystr.lstrip()"
   ]
  },
  {
   "cell_type": "code",
   "execution_count": 71,
   "id": "06a3a197",
   "metadata": {},
   "outputs": [],
   "source": [
    "s1 = 'apple,orange,grapes,kiwi'"
   ]
  },
  {
   "cell_type": "code",
   "execution_count": 72,
   "id": "08f5865e",
   "metadata": {},
   "outputs": [
    {
     "data": {
      "text/plain": [
       "['apple', 'orange', 'grapes', 'kiwi']"
      ]
     },
     "execution_count": 72,
     "metadata": {},
     "output_type": "execute_result"
    }
   ],
   "source": [
    "s1.split(',')"
   ]
  },
  {
   "cell_type": "code",
   "execution_count": 73,
   "id": "98b642c6",
   "metadata": {},
   "outputs": [],
   "source": [
    "s2 = 'apple|orange|grapes|kiwi'"
   ]
  },
  {
   "cell_type": "code",
   "execution_count": 74,
   "id": "0573c3e7",
   "metadata": {},
   "outputs": [
    {
     "data": {
      "text/plain": [
       "['apple', 'orange', 'grapes', 'kiwi']"
      ]
     },
     "execution_count": 74,
     "metadata": {},
     "output_type": "execute_result"
    }
   ],
   "source": [
    "s2.split('|')"
   ]
  },
  {
   "cell_type": "code",
   "execution_count": 75,
   "id": "b2bf8b4b",
   "metadata": {},
   "outputs": [],
   "source": [
    "s1 = 'apple;orange,grapes,kiwi'"
   ]
  },
  {
   "cell_type": "code",
   "execution_count": 76,
   "id": "e59d04a1",
   "metadata": {},
   "outputs": [
    {
     "data": {
      "text/plain": [
       "['apple;orange', 'grapes', 'kiwi']"
      ]
     },
     "execution_count": 76,
     "metadata": {},
     "output_type": "execute_result"
    }
   ],
   "source": [
    "s1.split(',')"
   ]
  },
  {
   "cell_type": "code",
   "execution_count": 77,
   "id": "114492ac",
   "metadata": {},
   "outputs": [],
   "source": [
    "s1 = 'apple orange grapes kiwi'"
   ]
  },
  {
   "cell_type": "code",
   "execution_count": 78,
   "id": "beeb5200",
   "metadata": {},
   "outputs": [
    {
     "data": {
      "text/plain": [
       "['apple', 'orange', 'grapes', 'kiwi']"
      ]
     },
     "execution_count": 78,
     "metadata": {},
     "output_type": "execute_result"
    }
   ],
   "source": [
    "s1.split(' ')"
   ]
  },
  {
   "cell_type": "code",
   "execution_count": 92,
   "id": "d849069d",
   "metadata": {},
   "outputs": [],
   "source": [
    "x = 10"
   ]
  },
  {
   "cell_type": "code",
   "execution_count": 93,
   "id": "e46f6c7f",
   "metadata": {},
   "outputs": [
    {
     "data": {
      "text/plain": [
       "4347943552"
      ]
     },
     "execution_count": 93,
     "metadata": {},
     "output_type": "execute_result"
    }
   ],
   "source": [
    "id(x)"
   ]
  },
  {
   "cell_type": "code",
   "execution_count": 94,
   "id": "99782343",
   "metadata": {},
   "outputs": [],
   "source": [
    "x = 20"
   ]
  },
  {
   "cell_type": "code",
   "execution_count": 95,
   "id": "047fc3aa",
   "metadata": {},
   "outputs": [
    {
     "data": {
      "text/plain": [
       "4347943872"
      ]
     },
     "execution_count": 95,
     "metadata": {},
     "output_type": "execute_result"
    }
   ],
   "source": [
    "id(x)"
   ]
  },
  {
   "cell_type": "code",
   "execution_count": null,
   "id": "5dd56583",
   "metadata": {},
   "outputs": [],
   "source": []
  }
 ],
 "metadata": {
  "kernelspec": {
   "display_name": "Python 3 (ipykernel)",
   "language": "python",
   "name": "python3"
  },
  "language_info": {
   "codemirror_mode": {
    "name": "ipython",
    "version": 3
   },
   "file_extension": ".py",
   "mimetype": "text/x-python",
   "name": "python",
   "nbconvert_exporter": "python",
   "pygments_lexer": "ipython3",
   "version": "3.9.13"
  }
 },
 "nbformat": 4,
 "nbformat_minor": 5
}
