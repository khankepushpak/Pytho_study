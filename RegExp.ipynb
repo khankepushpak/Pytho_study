{
 "cells": [
  {
   "cell_type": "markdown",
   "metadata": {},
   "source": [
    "## Regular Expressions"
   ]
  },
  {
   "cell_type": "markdown",
   "metadata": {},
   "source": [
    "### <font color ='brown'> Notes </font>\n",
    "\n",
    "#### Format: match = re.search(pat, str) \n",
    "\n",
    "+ a, X, 9, < -- ordinary characters just match themselves exactly. \n",
    "+ The meta-characters which do not match themselves because they have special meanings are: . ^ $ * + ? { [ ] \\ | ( ) \n",
    "+ . (a period) -- matches any single character except newline '\\n'\n",
    "+ . (a period) -- matches any\n",
    "+ \\w -- (lowercase w) matches a \"word\" character: a letter or digit or underbar [a-zA-Z0-9_]. \n",
    "+ \\b -- boundary between word and non-word\n",
    "+ \\s -- (lowercase s) matches a single whitespace character -- space, newline, return, tab, form [ \\n\\r\\t\\f]. \n",
    "+ \\S (upper case S) matches any non-whitespace character.\n",
    "+ \\t, \\n, \\r -- tab, newline, return\n",
    "+ \\d -- decimal digit [0-9] \n",
    "\n",
    "+ ^ = start, $ = end -- match the start or end of the string\n",
    "+ \\ -- inhibit the \"specialness\" of a character. "
   ]
  },
  {
   "cell_type": "code",
   "execution_count": 1,
   "metadata": {},
   "outputs": [],
   "source": [
    "import re"
   ]
  },
  {
   "cell_type": "code",
   "execution_count": 2,
   "metadata": {},
   "outputs": [
    {
     "name": "stdout",
     "output_type": "stream",
     "text": [
      "ix\n"
     ]
    }
   ],
   "source": [
    "match = re.search('ix','six')\n",
    "print(match.group())\n",
    "#print(match)"
   ]
  },
  {
   "cell_type": "code",
   "execution_count": 3,
   "metadata": {},
   "outputs": [
    {
     "name": "stdout",
     "output_type": "stream",
     "text": [
      "No Match\n"
     ]
    }
   ],
   "source": [
    "match = re.search('jx','six')\n",
    "\n",
    "if match:\n",
    "    print('Found ', match.group())\n",
    "else:\n",
    "    print('No Match')"
   ]
  },
  {
   "cell_type": "code",
   "execution_count": 5,
   "metadata": {},
   "outputs": [
    {
     "name": "stdout",
     "output_type": "stream",
     "text": [
      "Found  Pat\n"
     ]
    }
   ],
   "source": [
    "search_str = 'Patronising'\n",
    "match = re.search('^Pat',search_str)\n",
    "\n",
    "if match:\n",
    "    print('Found ', match.group())\n",
    "else:\n",
    "    print('No Match')"
   ]
  },
  {
   "cell_type": "code",
   "execution_count": 7,
   "metadata": {},
   "outputs": [
    {
     "name": "stdout",
     "output_type": "stream",
     "text": [
      "Found  sing\n"
     ]
    }
   ],
   "source": [
    "## End with\n",
    "match = re.search('sing$',search_str)\n",
    "\n",
    "if match:\n",
    "    print('Found ', match.group())\n",
    "else:\n",
    "    print('No Match')"
   ]
  },
  {
   "cell_type": "code",
   "execution_count": null,
   "metadata": {},
   "outputs": [],
   "source": [
    "### Starts with\n",
    "match = re.search('^Patr',search_str)\n",
    "\n",
    "if match:\n",
    "    print('Found ', match.group())\n",
    "else:\n",
    "    print('No Match')"
   ]
  },
  {
   "cell_type": "code",
   "execution_count": 9,
   "metadata": {},
   "outputs": [
    {
     "name": "stdout",
     "output_type": "stream",
     "text": [
      "Found  123$\n"
     ]
    }
   ],
   "source": [
    "## . = any char but \\n\n",
    "\n",
    "match =  re.search('....','123$7898')\n",
    "if match:\n",
    "    print('Found ', match.group())\n",
    "else:\n",
    "    print('No Match')"
   ]
  },
  {
   "cell_type": "markdown",
   "metadata": {},
   "source": [
    "+ \\w -- (lowercase w) matches a \"word\" character: a letter or digit or underbar [a-zA-Z0-9_]. \n",
    "+ \\d -- decimal digit [0-9] "
   ]
  },
  {
   "cell_type": "code",
   "execution_count": 13,
   "metadata": {},
   "outputs": [
    {
     "name": "stdout",
     "output_type": "stream",
     "text": [
      "Found  ab5@\n"
     ]
    }
   ],
   "source": [
    "## \\d = digit , \\w =  char\n",
    "#match = re.search('\\d\\d\\d', 'A678B.C') \n",
    "match = re.search('\\w\\w\\w@', 'ab5@xy.com') \n",
    "\n",
    "if match:\n",
    "    print('Found ', match.group())\n",
    "else:\n",
    "    print('No Match')"
   ]
  },
  {
   "cell_type": "code",
   "execution_count": 14,
   "metadata": {},
   "outputs": [
    {
     "name": "stdout",
     "output_type": "stream",
     "text": [
      "Found   123 \n"
     ]
    }
   ],
   "source": [
    "## \\s = space \n",
    "match = re.search('\\s\\d\\d\\d\\s', 'B753 B.C 123 ') \n",
    "\n",
    "if match:\n",
    "    print('Found ', match.group())\n",
    "else:\n",
    "    print('No Match')"
   ]
  },
  {
   "cell_type": "markdown",
   "metadata": {},
   "source": [
    "#### Repetition"
   ]
  },
  {
   "cell_type": "markdown",
   "metadata": {},
   "source": [
    "+ '+'   -- 1 or more occurrences of the pattern to its left, e.g. 'i+' = one or more i's\n",
    "+ '*'   -- 0 or more occurrences of the pattern to its left\n",
    "+ '?'   -- match 0 or 1 occurrences of the pattern to its left"
   ]
  },
  {
   "cell_type": "code",
   "execution_count": 22,
   "metadata": {},
   "outputs": [
    {
     "name": "stdout",
     "output_type": "stream",
     "text": [
      "Found  hello\n"
     ]
    }
   ],
   "source": [
    "match = re.search('hello?', 'hellooo') \n",
    "if match:\n",
    "    print('Found ', match.group())"
   ]
  },
  {
   "cell_type": "code",
   "execution_count": 23,
   "metadata": {},
   "outputs": [
    {
     "name": "stdout",
     "output_type": "stream",
     "text": [
      "Found  hell\n"
     ]
    }
   ],
   "source": [
    "#match = re.search('hello*', 'hell') \n",
    "match = re.search('hello*', 'hell') \n",
    "if match:\n",
    "    print('Found ', match.group())"
   ]
  },
  {
   "cell_type": "code",
   "execution_count": 24,
   "metadata": {},
   "outputs": [
    {
     "name": "stdout",
     "output_type": "stream",
     "text": [
      "Found  12   3\n"
     ]
    }
   ],
   "source": [
    "## \\s* = zero or more whitespace chars\n",
    "## Here look for 3 digits, possibly separated by whitespace.\n",
    "match = re.search('\\d\\s*\\d\\s*\\d', 'xx12   3xx')\n",
    "if match:\n",
    "    print('Found ', match.group())"
   ]
  },
  {
   "cell_type": "markdown",
   "metadata": {},
   "source": [
    "#### Matching emails"
   ]
  },
  {
   "cell_type": "code",
   "execution_count": 26,
   "metadata": {},
   "outputs": [
    {
     "name": "stdout",
     "output_type": "stream",
     "text": [
      "elephant11@google.com\n"
     ]
    }
   ],
   "source": [
    "str = 'My email is pink-elephant11@google.com. Thank you'\n",
    "\n",
    "match = re.search('\\w+@\\w+\\.com', str)\n",
    "if match:\n",
    "    print(match.group()  )\n"
   ]
  },
  {
   "cell_type": "code",
   "execution_count": 30,
   "metadata": {},
   "outputs": [
    {
     "name": "stdout",
     "output_type": "stream",
     "text": [
      "pink-elephant11@google.com\n"
     ]
    }
   ],
   "source": [
    "str = 'My email is pink-elephant11@google.com. Thank you'\n",
    "\n",
    "#match = re.search('[\\w-]+@\\w+\\.com', str)\n",
    "match = re.search('\\w+.\\w+@\\w+\\.com', str)\n",
    "if match:\n",
    "    print(match.group()  )"
   ]
  },
  {
   "cell_type": "markdown",
   "metadata": {},
   "source": [
    "#### Group Extraction"
   ]
  },
  {
   "cell_type": "code",
   "execution_count": 34,
   "metadata": {},
   "outputs": [
    {
     "name": "stdout",
     "output_type": "stream",
     "text": [
      "user name:  support\n",
      "email provider:  gmail.com\n"
     ]
    }
   ],
   "source": [
    "#my_str = 'My email is pink-elephant@gmail.com. Thank you'\n",
    "my_str = 'Please contact support@gmail.com for any queries. You can also reach me at pink-elephant@gmail.com. Thank you'\n",
    "\n",
    "\n",
    "## Remove specialness of a character\n",
    "match = re.search('([\\w-]+)@([\\w-]+\\.com)', my_str)\n",
    "if match:\n",
    "    print('user name: ', match.group(1) )\n",
    "    print('email provider: ', match.group(2) )"
   ]
  },
  {
   "cell_type": "code",
   "execution_count": 35,
   "metadata": {},
   "outputs": [
    {
     "name": "stdout",
     "output_type": "stream",
     "text": [
      "support@gmail.com\n",
      "pink.elephant@gmail.com.\n"
     ]
    }
   ],
   "source": [
    "## Suppose we have a text with many email addresses\n",
    "my_str = 'Please contact support@gmail.com for any queries. You can also reach me at pink.elephant@gmail.com. Thank you'\n",
    "\n",
    "  ## re.findall() returns a list of all the found email strings\n",
    "emails = re.findall('[\\w\\.]+@[\\w\\.]+', my_str) \n",
    "for x in emails:\n",
    "    print (x)\n",
    "#print(emails)\n"
   ]
  },
  {
   "cell_type": "markdown",
   "metadata": {},
   "source": [
    "### String Substitution"
   ]
  },
  {
   "cell_type": "code",
   "execution_count": 36,
   "metadata": {},
   "outputs": [
    {
     "name": "stdout",
     "output_type": "stream",
     "text": [
      "Champakali\n"
     ]
    }
   ],
   "source": [
    "my_str = 'Anarkali'\n",
    "print(re.sub('Anar','Champa',my_str))"
   ]
  },
  {
   "cell_type": "code",
   "execution_count": null,
   "metadata": {},
   "outputs": [],
   "source": []
  }
 ],
 "metadata": {
  "interpreter": {
   "hash": "bab68610a7da1c397d023cc1b38559851e158552e221441758b9edad06bfc4f6"
  },
  "kernelspec": {
   "display_name": "Python 3 (ipykernel)",
   "language": "python",
   "name": "python3"
  },
  "language_info": {
   "codemirror_mode": {
    "name": "ipython",
    "version": 3
   },
   "file_extension": ".py",
   "mimetype": "text/x-python",
   "name": "python",
   "nbconvert_exporter": "python",
   "pygments_lexer": "ipython3",
   "version": "3.9.13"
  }
 },
 "nbformat": 4,
 "nbformat_minor": 2
}
